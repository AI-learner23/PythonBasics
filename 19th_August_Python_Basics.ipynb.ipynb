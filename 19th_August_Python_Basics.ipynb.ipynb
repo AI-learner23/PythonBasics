{
  "nbformat": 4,
  "nbformat_minor": 0,
  "metadata": {
    "colab": {
      "provenance": []
    },
    "kernelspec": {
      "name": "python3",
      "display_name": "Python 3"
    },
    "language_info": {
      "name": "python"
    }
  },
  "cells": [
    {
      "cell_type": "code",
      "execution_count": 12,
      "metadata": {
        "id": "VEt8FeUJ6j99"
      },
      "outputs": [],
      "source": [
        "'''1. Declare two variables, `x` and `y`, and assign them integer values.\n",
        "Swap the values of these variables without using any temporary\n",
        "variable.'''\n",
        "#Declaring and assigning integer values to variables X and Y\n",
        "x,y = 27,13"
      ]
    },
    {
      "cell_type": "code",
      "source": [
        "x"
      ],
      "metadata": {
        "colab": {
          "base_uri": "https://localhost:8080/"
        },
        "id": "DA9zA1TF6siL",
        "outputId": "ee491fac-6f81-4b95-f8a5-0299cdfa9ee8"
      },
      "execution_count": 13,
      "outputs": [
        {
          "output_type": "execute_result",
          "data": {
            "text/plain": [
              "27"
            ]
          },
          "metadata": {},
          "execution_count": 13
        }
      ]
    },
    {
      "cell_type": "code",
      "source": [
        "y"
      ],
      "metadata": {
        "colab": {
          "base_uri": "https://localhost:8080/"
        },
        "id": "lavyMZZD6vQ7",
        "outputId": "71486257-ffc1-429f-dbaf-74a2e7fb1865"
      },
      "execution_count": 14,
      "outputs": [
        {
          "output_type": "execute_result",
          "data": {
            "text/plain": [
              "13"
            ]
          },
          "metadata": {},
          "execution_count": 14
        }
      ]
    },
    {
      "cell_type": "code",
      "source": [
        "#swapping without using temporary variable\n",
        "x=x+y\n",
        "y= x-y #swapping x value to y\n",
        "x = x - y #now swapping y value to x\n"
      ],
      "metadata": {
        "id": "fgkbbJBR7r23"
      },
      "execution_count": 15,
      "outputs": []
    },
    {
      "cell_type": "code",
      "source": [
        "x"
      ],
      "metadata": {
        "colab": {
          "base_uri": "https://localhost:8080/"
        },
        "id": "CbgZDKqD8L3G",
        "outputId": "8b37e19b-bda2-4366-bb14-afa16808c3d6"
      },
      "execution_count": 16,
      "outputs": [
        {
          "output_type": "execute_result",
          "data": {
            "text/plain": [
              "13"
            ]
          },
          "metadata": {},
          "execution_count": 16
        }
      ]
    },
    {
      "cell_type": "code",
      "source": [
        "y"
      ],
      "metadata": {
        "colab": {
          "base_uri": "https://localhost:8080/"
        },
        "id": "fnfQaLpw8T_4",
        "outputId": "63aa65ca-f2bc-43ca-b136-4565027d1dcb"
      },
      "execution_count": 17,
      "outputs": [
        {
          "output_type": "execute_result",
          "data": {
            "text/plain": [
              "27"
            ]
          },
          "metadata": {},
          "execution_count": 17
        }
      ]
    },
    {
      "cell_type": "code",
      "source": [
        "'''2. Create a program that calculates the area of a rectangle. Take the\n",
        "length and width as inputs from the user and store them in variables.\n",
        "Calculate and display the area.'''\n",
        "length = input() #to get length input from the user and storing in a variable\n",
        "width = input()  #to get width input from the user and storing in a variable"
      ],
      "metadata": {
        "colab": {
          "base_uri": "https://localhost:8080/"
        },
        "id": "PcGs_t158rbf",
        "outputId": "8248a86a-2b83-477b-e2ea-755ff85bb46e"
      },
      "execution_count": 18,
      "outputs": [
        {
          "name": "stdout",
          "output_type": "stream",
          "text": [
            "10\n",
            "5\n"
          ]
        }
      ]
    },
    {
      "cell_type": "code",
      "source": [
        "area = int(length)*int(width)  #converting length and width as Integers and calculating area of the rectangle\n",
        "print(\"Area of the rectangle: \",area)"
      ],
      "metadata": {
        "colab": {
          "base_uri": "https://localhost:8080/"
        },
        "id": "YgKGlbrI94T1",
        "outputId": "a8127824-e8b5-49a0-c474-7e861a90c59c"
      },
      "execution_count": 26,
      "outputs": [
        {
          "output_type": "stream",
          "name": "stdout",
          "text": [
            "Area of the rectangle:  50\n"
          ]
        }
      ]
    },
    {
      "cell_type": "code",
      "source": [
        "'''3. Write a Python program that converts temperature from Celsius to\n",
        "Fahrenheit. Take the temperature in Celsius as input, store it in a\n",
        "variable, convert it to Fahrenheit, and display the result.'''\n",
        "\n",
        "celsiustemp = float(input())  #Taking the temperature in Celsius as input, storing in a variable\n",
        "fahrenheittemp=celsiustemp*1.8+32 #converting it to Fahrenheit\n",
        "print(\"Converted temperature from Celsius to Fahrenheit:\",fahrenheittemp) #Displaying the result"
      ],
      "metadata": {
        "colab": {
          "base_uri": "https://localhost:8080/"
        },
        "id": "I1UZsQwL-KH1",
        "outputId": "d979f024-2577-4264-be89-e77b46f19957"
      },
      "execution_count": 27,
      "outputs": [
        {
          "output_type": "stream",
          "name": "stdout",
          "text": [
            "97.1\n",
            "Converted temperature from Celsius to Fahrenheit: 206.78\n"
          ]
        }
      ]
    },
    {
      "cell_type": "code",
      "source": [
        "'''1. Write a Python program that takes a string as input and prints the\n",
        "length of the string.'''\n",
        "inputstring = input() #Getting Input string\n",
        "print(\"Length of the Inputstring: \",len(inputstring)) #printing the length of the string\n"
      ],
      "metadata": {
        "colab": {
          "base_uri": "https://localhost:8080/"
        },
        "id": "oiMDddXUAdEO",
        "outputId": "d56d90f4-73e2-440e-e31d-2d24d04da19b"
      },
      "execution_count": 29,
      "outputs": [
        {
          "output_type": "stream",
          "name": "stdout",
          "text": [
            "Welcome to Python Assignment Session\n",
            "Length of the Inputstring:  36\n"
          ]
        }
      ]
    },
    {
      "cell_type": "code",
      "source": [
        "'''2. Create a program that takes a sentence from the user and counts the\n",
        "number of vowels (a, e, i, o, u) in the string.'''\n",
        "sentence = input() #taking sentence from the user\n",
        "vowels = \"aeiouAEIOU\"\n",
        "\n",
        "count = sum(sentence.count(vowel) for vowel in vowels) #counting no of vowels in the sentence\n",
        "print(\"Vowels count in the given sentence: \",count) #printing the result\n",
        "\n"
      ],
      "metadata": {
        "colab": {
          "base_uri": "https://localhost:8080/"
        },
        "id": "P_68VJ0nBGX9",
        "outputId": "41025e3a-9c6a-478e-fe00-6df15f569fa6"
      },
      "execution_count": 30,
      "outputs": [
        {
          "output_type": "stream",
          "name": "stdout",
          "text": [
            "Welcome to Python Assignment Session\n",
            "Vowels count in the given sentence:  11\n"
          ]
        }
      ]
    },
    {
      "cell_type": "code",
      "source": [
        "'''3. Given a string, reverse the order of characters using string slicing and\n",
        "print the reversed string.'''\n",
        "stringslice = \"String Functions\" #Assign string to a variable\n",
        "stringslice\n",
        "stringslice[::-1]\n",
        "print(\"Reverse order of the string:\" , stringslice[::-1] ) #print the reverse order of the string\n"
      ],
      "metadata": {
        "colab": {
          "base_uri": "https://localhost:8080/"
        },
        "id": "8LpqsxaHC24s",
        "outputId": "51e8fbbc-b8ca-456d-d43b-2edcce91e8c4"
      },
      "execution_count": 32,
      "outputs": [
        {
          "output_type": "stream",
          "name": "stdout",
          "text": [
            "Reverse order of the string: snoitcnuF gnirtS\n"
          ]
        }
      ]
    },
    {
      "cell_type": "code",
      "source": [
        "'''4. Write a program that takes a string as input and checks if it is a\n",
        "palindrome (reads the same forwards and backwards).'''\n",
        "input_string = input() #input string\n",
        "reverse_string = input_string[::-1] #reversing of the input string\n",
        "if input_string == reverse_string:  #checking the input and its reverse are same\n",
        "  print('Input string is a palindrome')\n",
        "else:\n",
        "  print('Input string is not a palindrome')\n"
      ],
      "metadata": {
        "colab": {
          "base_uri": "https://localhost:8080/"
        },
        "id": "oBEsAIKxD1Xz",
        "outputId": "e90cea90-2fff-4bc5-d758-965aeebbbaca"
      },
      "execution_count": 38,
      "outputs": [
        {
          "output_type": "stream",
          "name": "stdout",
          "text": [
            "madam\n",
            "Input string is a palindrome\n"
          ]
        }
      ]
    },
    {
      "cell_type": "code",
      "source": [
        "'''5. Create a program that takes a string as input and removes all the\n",
        "spaces from it. Print the modified string without spaces.'''\n",
        "str_input = \"Welcome to Python Assignment Session\" #taking a string as input\n",
        "trimmed_text = str_input.replace(\" \", \"\") #removing all the spaces\n",
        "print(\"Modified string without spaces: \", trimmed_text) #Print the modified string without spaces.\n"
      ],
      "metadata": {
        "colab": {
          "base_uri": "https://localhost:8080/"
        },
        "id": "nGiDRq3uFgzA",
        "outputId": "3aa1bb02-32bd-48a7-8148-38d4d1bb28b4"
      },
      "execution_count": 44,
      "outputs": [
        {
          "output_type": "stream",
          "name": "stdout",
          "text": [
            "Modified string without spaces:  WelcometoPythonAssignmentSession\n"
          ]
        }
      ]
    },
    {
      "cell_type": "code",
      "source": [],
      "metadata": {
        "id": "nEKq80UqHW9n"
      },
      "execution_count": null,
      "outputs": []
    }
  ]
}