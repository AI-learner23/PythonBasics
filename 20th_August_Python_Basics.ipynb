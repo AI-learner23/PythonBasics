{
  "nbformat": 4,
  "nbformat_minor": 0,
  "metadata": {
    "colab": {
      "provenance": [],
      "authorship_tag": "ABX9TyNwvd6LWScJstoQwIpr/jW5"
    },
    "kernelspec": {
      "name": "python3",
      "display_name": "Python 3"
    },
    "language_info": {
      "name": "python"
    }
  },
  "cells": [
    {
      "cell_type": "code",
      "execution_count": null,
      "metadata": {
        "colab": {
          "base_uri": "https://localhost:8080/",
          "height": 35
        },
        "id": "Y7D4pCjRnPTF",
        "outputId": "d85578b1-a3de-49e0-817f-fe9dbf9ef1db"
      },
      "outputs": [
        {
          "output_type": "execute_result",
          "data": {
            "text/plain": [
              "'gnirts a esrever ot margorP'"
            ],
            "application/vnd.google.colaboratory.intrinsic+json": {
              "type": "string"
            }
          },
          "metadata": {},
          "execution_count": 1
        }
      ],
      "source": [
        "#TOPIC: String Based Assignment Problem\n",
        "#1. Write a program to reverse a string.\n",
        "string = 'Program to reverse a string'\n",
        "reverse_string = string[::-1] #Reversing the string\n",
        "reverse_string"
      ]
    },
    {
      "cell_type": "code",
      "source": [
        "#2. Check if a string is a palindrome.\n",
        "str1 = 'malayalam'\n",
        "str2 = str1[::-1] #Reversing the string\n",
        "if str1 == str2 : #Checking the string and the reversal of the same.\n",
        "  print(str1 +' is a palindrome.')\n",
        "else :\n",
        "   print(str1 +' is not a palindrome.')"
      ],
      "metadata": {
        "colab": {
          "base_uri": "https://localhost:8080/"
        },
        "id": "NTJtnRONoraC",
        "outputId": "24d2e403-d420-4fd4-9c56-bf236d3560b9"
      },
      "execution_count": null,
      "outputs": [
        {
          "output_type": "stream",
          "name": "stdout",
          "text": [
            "malayalam is a palindrome.\n"
          ]
        }
      ]
    },
    {
      "cell_type": "code",
      "source": [
        "#3. Convert a string to uppercase.\n",
        "str1 = 'malayalam'\n",
        "upper_str1 = str1.upper() #Converting to Uppercase of the string\n",
        "print('Uppercase of ' + str1 + ' is ' + upper_str1)"
      ],
      "metadata": {
        "colab": {
          "base_uri": "https://localhost:8080/"
        },
        "id": "LtlGVtb1qUl8",
        "outputId": "223ecdda-6859-4fc2-aa67-02bb7c1d22ac"
      },
      "execution_count": null,
      "outputs": [
        {
          "output_type": "stream",
          "name": "stdout",
          "text": [
            "Uppercase of malayalam is MALAYALAM\n"
          ]
        }
      ]
    },
    {
      "cell_type": "code",
      "source": [
        "#4. Convert a string to lowercase.\n",
        "str2 = 'Welcome to the Python Practise test'\n",
        "lower_str2 = str2.lower() #Converting to Lowercase of the string\n",
        "print('Lowercase : ' + lower_str2 )"
      ],
      "metadata": {
        "colab": {
          "base_uri": "https://localhost:8080/"
        },
        "id": "0bj0sYa7s2RW",
        "outputId": "f934c7ec-cfae-497b-8947-a73723e94a15"
      },
      "execution_count": null,
      "outputs": [
        {
          "output_type": "stream",
          "name": "stdout",
          "text": [
            "Lowercase : welcome to the python practise test\n"
          ]
        }
      ]
    },
    {
      "cell_type": "code",
      "source": [
        "#5. Count the number of vowels in a string.\n",
        "vowel_string = \"Education\"\n",
        "\n",
        "vowels = [\"a\", \"e\", \"i\", \"o\", \"u\", \"A\",\"E\",\"I\",\"O\",\"U\"]\n",
        "vowel_count = 0 #variable to hold the count\n",
        "\n",
        "# using for-each loop,\n",
        "for character in vowel_string: #Iterate through the string to check each letter by letter\n",
        "    if character in vowels: # checking a letter, is exists in vowel list\n",
        "        vowel_count += 1 #increementing the variable\n",
        "\n",
        "print('Number of vowels in the string ' + vowel_string +' : ',  vowel_count)\n"
      ],
      "metadata": {
        "colab": {
          "base_uri": "https://localhost:8080/"
        },
        "id": "1gt5UBrks7eS",
        "outputId": "926388ee-c3e0-4ccc-8c4e-ea181ffdb23f"
      },
      "execution_count": null,
      "outputs": [
        {
          "output_type": "stream",
          "name": "stdout",
          "text": [
            "Number of vowels in the string Education :  5\n"
          ]
        }
      ]
    },
    {
      "cell_type": "code",
      "source": [
        "#6. Count the number of consonants in a string.\n",
        "consonant_string = \"Education\"\n",
        "\n",
        "vowels = [\"a\", \"e\", \"i\", \"o\", \"u\", \"A\",\"E\",\"I\",\"O\",\"U\"]\n",
        "consonant_count = 0 #variable to hold the count\n",
        "\n",
        "# using for-each loop,\n",
        "for character in vowel_string: #Iterate through the string to check each letter by letter\n",
        "    if character not in vowels: # checking a letter in the string, is not exists in vowel list\n",
        "        consonant_count += 1 #increementing the variable\n",
        "\n",
        "print('Number of Consonants in the string ' + consonant_string +' : ',  consonant_count)"
      ],
      "metadata": {
        "colab": {
          "base_uri": "https://localhost:8080/"
        },
        "id": "S27yS9Bhu1Jv",
        "outputId": "f85bcccf-89fb-4f44-e528-6ce72e2d423a"
      },
      "execution_count": null,
      "outputs": [
        {
          "output_type": "stream",
          "name": "stdout",
          "text": [
            "Number of Consonants in the string Education :  4\n"
          ]
        }
      ]
    },
    {
      "cell_type": "code",
      "source": [
        "#7. Remove all whitespaces from a string.\n",
        "def trim_space(input_str): #Function definition\n",
        "  result_str = \"\" #variable to hold the result and initialize as empty\n",
        "  for letter in input_str: #Iterating each letter of the string\n",
        "    if (letter!=\" \"): #checking its not space\n",
        "      result_str += letter #if it is not space, appending this letter with the result\n",
        "  return result_str\n",
        "\n",
        "string_trim = '   Data Scientist    '\n",
        "result_trim = trim_space(string_trim) #calling the function\n",
        "result_trim"
      ],
      "metadata": {
        "colab": {
          "base_uri": "https://localhost:8080/",
          "height": 35
        },
        "id": "B86HkYXuvQFK",
        "outputId": "1d0e539f-6745-4ba5-9480-9f5ed45764a0"
      },
      "execution_count": null,
      "outputs": [
        {
          "output_type": "execute_result",
          "data": {
            "text/plain": [
              "'DataScientist'"
            ],
            "application/vnd.google.colaboratory.intrinsic+json": {
              "type": "string"
            }
          },
          "metadata": {},
          "execution_count": 40
        }
      ]
    },
    {
      "cell_type": "code",
      "source": [
        "#8. Find the length of a string without using the `len()` function.\n",
        "length_string = 'Data Scientist'\n",
        "length_count = 0  #variable to hold the count\n",
        "for letter in length_string: #Iterate through the string to check each letter by letter\n",
        "  length_count += 1 #increementing the variable\n",
        "print('Length: ',length_count) #print the result"
      ],
      "metadata": {
        "colab": {
          "base_uri": "https://localhost:8080/"
        },
        "id": "NhEFdjqWxvoE",
        "outputId": "9f796410-e5f6-455e-ef8b-3767e8714680"
      },
      "execution_count": null,
      "outputs": [
        {
          "output_type": "stream",
          "name": "stdout",
          "text": [
            "Length:  14\n"
          ]
        }
      ]
    },
    {
      "cell_type": "code",
      "source": [
        "#9. Check if a string contains a specific word.\n",
        "quote_string = 'One child,one teacher, one book, one pen can change the world'\n",
        "search_string = 'change' #word to search in the string\n",
        "if search_string in quote_string: #checking a word, is exists in the string\n",
        "     print('The string contains ' + search_string)\n",
        "else:\n",
        "     print('The string does not contains ' + search_string)"
      ],
      "metadata": {
        "colab": {
          "base_uri": "https://localhost:8080/"
        },
        "id": "wtbGwReCy5a9",
        "outputId": "4167de64-d586-4fc1-8988-19f05ee5d035"
      },
      "execution_count": null,
      "outputs": [
        {
          "output_type": "stream",
          "name": "stdout",
          "text": [
            "The string contains change\n"
          ]
        }
      ]
    },
    {
      "cell_type": "code",
      "source": [
        "#10. Replace a word in a string with another word.\n",
        "main_string = \"The money is everything\"\n",
        "replace_string = \"mind\" #new word to replace\n",
        "new_string = main_string.replace(\"money\",replace_string) #replace the string\n",
        "new_string"
      ],
      "metadata": {
        "colab": {
          "base_uri": "https://localhost:8080/",
          "height": 35
        },
        "id": "80FvcnV701_m",
        "outputId": "41d8a86c-4810-4b5e-86f1-254b2298c8d1"
      },
      "execution_count": null,
      "outputs": [
        {
          "output_type": "execute_result",
          "data": {
            "text/plain": [
              "'The mind is everything'"
            ],
            "application/vnd.google.colaboratory.intrinsic+json": {
              "type": "string"
            }
          },
          "metadata": {},
          "execution_count": 36
        }
      ]
    },
    {
      "cell_type": "code",
      "source": [
        "#11. Count the occurrences of a word in a string.\n",
        "occur_string = \"Analyst works on data\"\n",
        "occur_string = occur_string.split() #splitting string\n",
        "occur_string\n",
        "search_word ='data' #word to search\n",
        "word_count = 0\n",
        "for word in occur_string: #iterating through the words in the string now a converted list\n",
        "  if search_word == word: #checking word is equal to the word in the string list.\n",
        "     word_count+= 1\n",
        "print('Count of the word ' + search_word +\": \",word_count)"
      ],
      "metadata": {
        "colab": {
          "base_uri": "https://localhost:8080/"
        },
        "id": "Wu-Bm15Q2kU9",
        "outputId": "5ca5e242-a478-4c99-94d6-8668556c1b0c"
      },
      "execution_count": null,
      "outputs": [
        {
          "output_type": "stream",
          "name": "stdout",
          "text": [
            "Count of the word data:  1\n"
          ]
        }
      ]
    },
    {
      "cell_type": "code",
      "source": [
        "#12. Find the first occurrence of a word in a string.\n",
        "first_occur_string = 'what you think you become'\n",
        "srch_word = 'you'\n",
        "search_index = 0 #variable to hold the index\n",
        "search_index = first_occur_string.find(srch_word) #search the index of the mentioned word in the string\n",
        "if search_index == -1: #check if the index exists or not. if index is -1 then word not exists in string.\n",
        "   print('word :'+ srch_word + ' not found in the string' + ' : ' + first_occur_string)\n",
        "else:\n",
        "   print('word \\\"'+ srch_word + '\\\" occurs at the position ', search_index , ' in the string \\\"' + first_occur_string +\"\\\"\")"
      ],
      "metadata": {
        "id": "Z7hTdHD12HmR",
        "colab": {
          "base_uri": "https://localhost:8080/"
        },
        "outputId": "8b5000c5-8afd-424f-e184-6875f6f3f260"
      },
      "execution_count": null,
      "outputs": [
        {
          "output_type": "stream",
          "name": "stdout",
          "text": [
            "word \"you\" occurs at the position  5  in the string \"what you think you become\"\n"
          ]
        }
      ]
    },
    {
      "cell_type": "code",
      "source": [
        "#13. Find the last occurrence of a word in a string.\n",
        "last_occur_string = 'what you think you become'\n",
        "search_word = 'you'\n",
        "search_indx = 0 #variable to hold the index\n",
        "search_indx = last_occur_string.rfind(srch_word) #search the last index of the mentioned word in the string\n",
        "if search_index == -1: #check if the index exists or not. if index is -1 then word not exists in string.\n",
        "   print('word :'+ srch_word + ' not found in the string' + ' : ' + last_occur_string)\n",
        "else:\n",
        "   print('word \\\"'+ srch_word + '\\\" last occurs at the position ', search_indx , ' in the string \\\"' + last_occur_string +\"\\\"\")"
      ],
      "metadata": {
        "colab": {
          "base_uri": "https://localhost:8080/"
        },
        "id": "U-iQds0SeJXk",
        "outputId": "e28cdec8-ffcb-47ab-fcd6-e8f03a2f1198"
      },
      "execution_count": null,
      "outputs": [
        {
          "output_type": "stream",
          "name": "stdout",
          "text": [
            "word \"you\" last occurs at the position  15  in the string \"what you think you become\"\n"
          ]
        }
      ]
    },
    {
      "cell_type": "code",
      "source": [
        "#14. Split a string into a list of words.\n",
        "def split_words(input_string): #Function to split the words\n",
        "  words_list=[]\n",
        "  words_list = input_string.split()\n",
        "  return words_list\n",
        "unsplit_string = \"Arise! Awake! stop not till your goal is reached!!!\"\n",
        "split_string = split_words(unsplit_string) #calling the function\n",
        "split_string #print the List"
      ],
      "metadata": {
        "colab": {
          "base_uri": "https://localhost:8080/"
        },
        "id": "qSPIt_xje58s",
        "outputId": "bee3c5da-b5de-4359-ab44-5587a4ab1e9c"
      },
      "execution_count": null,
      "outputs": [
        {
          "output_type": "execute_result",
          "data": {
            "text/plain": [
              "['Arise!', 'Awake!', 'stop', 'not', 'till', 'your', 'goal', 'is', 'reached!!!']"
            ]
          },
          "metadata": {},
          "execution_count": 50
        }
      ]
    },
    {
      "cell_type": "code",
      "source": [
        "#15. Join a list of words into a string.\n",
        "def list_string(list_words):\n",
        "    res_string = ' '.join(list_words) # to combine list of words using join\n",
        "    return res_string # Return the final string.\n",
        "\n",
        "# Example usage\n",
        "list_words = ['Arise!', 'Awake!', 'stop', 'not', 'till', 'your', 'goal', 'is', 'reached!!!']\n",
        "string_output = list_string(list_words) #calling the function\n",
        "print(\"List to string: \", string_output)"
      ],
      "metadata": {
        "colab": {
          "base_uri": "https://localhost:8080/"
        },
        "id": "6X_rIFt5gp6H",
        "outputId": "bd954c2c-f19e-4b03-9d96-e912d2948cbc"
      },
      "execution_count": null,
      "outputs": [
        {
          "output_type": "stream",
          "name": "stdout",
          "text": [
            "List to string:  Arise! Awake! stop not till your goal is reached!!!\n"
          ]
        }
      ]
    },
    {
      "cell_type": "code",
      "source": [
        "'''16. Convert a string where words are separated by spaces to one where words\n",
        "are separated by underscores.'''\n",
        "base_str = 'Health is wealth' #declare and assign a string\n",
        "new_str = base_str.replace(\" \",\"_\") #replace space with underscore\n",
        "new_str #print the word with underscore\n"
      ],
      "metadata": {
        "colab": {
          "base_uri": "https://localhost:8080/",
          "height": 35
        },
        "id": "MChQtzhciESI",
        "outputId": "3d23e205-0a93-438f-8e7a-909cdb0d93ed"
      },
      "execution_count": null,
      "outputs": [
        {
          "output_type": "execute_result",
          "data": {
            "text/plain": [
              "'Health_is_wealth'"
            ],
            "application/vnd.google.colaboratory.intrinsic+json": {
              "type": "string"
            }
          },
          "metadata": {},
          "execution_count": 53
        }
      ]
    },
    {
      "cell_type": "code",
      "source": [
        "#17. Check if a string starts with a specific word or phrase.\n",
        "main_str = 'Failure comes with a present namely lesson'\n",
        "search_str ='Failure' #word to check\n",
        "if (main_str.startswith(search_str)): #checking the word starts with search_str in main str\n",
        "  print('\\''+  main_str + '\\' starts with ' + '\\''+ search_str + '\\'')\n",
        "else:\n",
        "  print('\\''+  main_str + '\\' doesn\\'t starts with ' + '\\''+ search_str + '\\'')"
      ],
      "metadata": {
        "colab": {
          "base_uri": "https://localhost:8080/"
        },
        "id": "kjyn-OCRjYA9",
        "outputId": "12b376b4-5619-4440-c6a6-3ee47d34d115"
      },
      "execution_count": null,
      "outputs": [
        {
          "output_type": "stream",
          "name": "stdout",
          "text": [
            "'Failure comes with a present namely lesson' starts with 'Failure'\n"
          ]
        }
      ]
    },
    {
      "cell_type": "code",
      "source": [
        "#18. Check if a string ends with a specific word or phrase.\n",
        "main_str = 'Failure comes with a present namely Lesson'\n",
        "search_str ='Lesson' #word to check\n",
        "if (main_str.endswith(search_str)): #checking the word ends with search_str in main str\n",
        "  print('\\''+  main_str + '\\' ends with ' + '\\''+ search_str + '\\'')\n",
        "else:\n",
        "  print('\\''+  main_str + '\\' doesn\\'t ends with ' + '\\''+ search_str + '\\'')"
      ],
      "metadata": {
        "colab": {
          "base_uri": "https://localhost:8080/"
        },
        "id": "4k_1R8IVlhGM",
        "outputId": "b238da88-b481-45be-f21a-397129915a0d"
      },
      "execution_count": null,
      "outputs": [
        {
          "output_type": "stream",
          "name": "stdout",
          "text": [
            "'Failure comes with a present namely Lesson' ends with 'Lesson'\n"
          ]
        }
      ]
    },
    {
      "cell_type": "code",
      "source": [
        "#19. Convert a string to title case (e.g., \"hello world\" to \"Hello World\").\n",
        "main_str = 'Chase your dream'\n",
        "title_string = main_str.title() #converting to title case\n",
        "print('Title case of \\''+ main_str +'\\' is \\''+ title_string +'\\'')"
      ],
      "metadata": {
        "colab": {
          "base_uri": "https://localhost:8080/"
        },
        "id": "37Xj2Ibql4oK",
        "outputId": "8985ac5a-49f2-48b2-e639-67ea8d3c4dce"
      },
      "execution_count": null,
      "outputs": [
        {
          "output_type": "stream",
          "name": "stdout",
          "text": [
            "Title case of 'Chase your dream' is 'Chase Your Dream'\n"
          ]
        }
      ]
    },
    {
      "cell_type": "code",
      "source": [
        "#20. Find the longest word in a string.\n",
        "def longestword(s):\n",
        "    #splitting the string into words\n",
        "    s=s.split()\n",
        "    # Using max() method\n",
        "    result = max(s,key=len)\n",
        "    return result\n",
        "main_str = 'Chase your dreams'\n",
        "long_word = longestword(main_str) #calling the function\n",
        "long_word\n",
        "print('The longest word:' + long_word)"
      ],
      "metadata": {
        "colab": {
          "base_uri": "https://localhost:8080/"
        },
        "id": "XjKNtb8Omx29",
        "outputId": "9e57821e-6289-4ebc-dc7a-51d701b09662"
      },
      "execution_count": null,
      "outputs": [
        {
          "output_type": "stream",
          "name": "stdout",
          "text": [
            "The longest word:dreams\n"
          ]
        }
      ]
    },
    {
      "cell_type": "code",
      "source": [
        "#21. Find the shortest word in a string.\n",
        "def shortestword(s):\n",
        "    #splitting the string into words\n",
        "    s=s.split()\n",
        "    # Using min() method\n",
        "    result = min(s,key=len)\n",
        "    return result\n",
        "main_str = 'Chase your dreams'\n",
        "short_word = shortestword(main_str) #calling the function\n",
        "short_word\n",
        "print('The shortest word:' + short_word)"
      ],
      "metadata": {
        "colab": {
          "base_uri": "https://localhost:8080/"
        },
        "id": "ObnaK8Uwp4nW",
        "outputId": "2929b00e-ff27-49fc-a564-5f5e30b1e797"
      },
      "execution_count": null,
      "outputs": [
        {
          "output_type": "stream",
          "name": "stdout",
          "text": [
            "The shortest word:your\n"
          ]
        }
      ]
    },
    {
      "cell_type": "code",
      "source": [
        "#22. Reverse the order of words in a string.\n",
        "def rever_func(input_str): #define function to reverse the words of string\n",
        "  t = s.split() #split the given string\n",
        "  reverse_str = t[::-1] #reverse the words in the list\n",
        "  final_str = ' '.join(reverse_str) #combine finally\n",
        "  return final_str\n",
        "\n",
        "s = 'Chase your dreams'\n",
        "input_s = rever_func(s) #calling the function\n",
        "print('Reverse order of words: ' + input_s) #print the output"
      ],
      "metadata": {
        "colab": {
          "base_uri": "https://localhost:8080/"
        },
        "id": "C-ZWqLHlpIOd",
        "outputId": "0d1d60b3-a5ec-4e8e-fba1-0220e19baaf0"
      },
      "execution_count": null,
      "outputs": [
        {
          "output_type": "stream",
          "name": "stdout",
          "text": [
            "Reverse order of words: dreams your Chase\n"
          ]
        }
      ]
    },
    {
      "cell_type": "code",
      "source": [
        "#23. Check if a string is alphanumeric.\n",
        "input_string = 'Welcome to my home'\n",
        "if input_string.isalnum() == True : #isalnum to check whether its alpha numeric or not\n",
        "    print('Its alphanumeric') #print the result\n",
        "else:\n",
        "    print('Its not alphanumeric') #print the result"
      ],
      "metadata": {
        "colab": {
          "base_uri": "https://localhost:8080/"
        },
        "id": "xPEE7y60s48d",
        "outputId": "820ece15-0fbc-43e2-cb94-a6a3182cd1ab"
      },
      "execution_count": null,
      "outputs": [
        {
          "output_type": "stream",
          "name": "stdout",
          "text": [
            "Its not alphanumeric\n"
          ]
        }
      ]
    },
    {
      "cell_type": "code",
      "source": [
        "#24. Extract all digits from a string.\n",
        "def extract_digits(input_string): #Define the function\n",
        "  x=test_string.split()  #split the string\n",
        "  res=[]\n",
        "  for i in x:\n",
        "    if i.isdigit(): #function to check whether digit or not\n",
        "        res.append(int(i))\n",
        "  return res\n",
        "\n",
        "test_string ='Address: 42 Northwest street,ChkTown'\n",
        "extracted_digits = extract_digits(test_string) #call the function\n",
        "print('Extracted Digits:',extracted_digits) #print the extracted digits"
      ],
      "metadata": {
        "colab": {
          "base_uri": "https://localhost:8080/"
        },
        "id": "mw3P0k7xvB7s",
        "outputId": "3cee6340-3d1e-4e23-8da8-686510e381b0"
      },
      "execution_count": null,
      "outputs": [
        {
          "output_type": "stream",
          "name": "stdout",
          "text": [
            "Extracted Digits: [42]\n"
          ]
        }
      ]
    },
    {
      "cell_type": "code",
      "source": [
        "#25. Extract all alphabets from a string.\n",
        "def extract_alphabets(input_string): #Define the function\n",
        "  x=test_string.split()  #split the string\n",
        "  res=\"\"\n",
        "  for i in x:\n",
        "    if i.isalpha(): #function to check whether alphabet or not\n",
        "        res += i\n",
        "  return res\n",
        "\n",
        "test_string ='Welcome to my home'\n",
        "extracted_alpha = extract_alphabets(test_string) #call the function\n",
        "print('Extracted Digits:',extracted_alpha) #print the final result"
      ],
      "metadata": {
        "colab": {
          "base_uri": "https://localhost:8080/"
        },
        "id": "O-QPvMMNx8Oo",
        "outputId": "e25af5be-8a10-4803-fe69-4a93fa986708"
      },
      "execution_count": null,
      "outputs": [
        {
          "output_type": "stream",
          "name": "stdout",
          "text": [
            "Extracted Digits: Welcometomyhome\n"
          ]
        }
      ]
    },
    {
      "cell_type": "code",
      "source": [
        "#26. Count the number of uppercase letters in a string.\n",
        "def count_uppercase(input_string): #Define the function\n",
        "  res= 0\n",
        "  for i in input_string:\n",
        "    if i.isupper()==True: #function to check whether uppercase or not\n",
        "        res += 1\n",
        "  return res\n",
        "\n",
        "test_string ='Welcome to my home'\n",
        "counted_isupper = count_uppercase(test_string) #call the function\n",
        "print('Uppercase letters count:',counted_isupper) #print the output\n"
      ],
      "metadata": {
        "colab": {
          "base_uri": "https://localhost:8080/"
        },
        "id": "JOwjOz-9y975",
        "outputId": "53e76994-1e91-4b22-d792-5ff83c56d22e"
      },
      "execution_count": null,
      "outputs": [
        {
          "output_type": "stream",
          "name": "stdout",
          "text": [
            "Uppercase letters count: 1\n"
          ]
        }
      ]
    },
    {
      "cell_type": "code",
      "source": [
        "#27. Count the number of lowercase letters in a string.\n",
        "def count_lowercase(input_string): #Define the function\n",
        "  res= 0\n",
        "  for i in input_string:\n",
        "    if i.islower()==True: #function to check whether lowercase or not\n",
        "        res += 1\n",
        "  return res\n",
        "\n",
        "test_string ='Welcome to my home'\n",
        "counted_islower = count_lowercase(test_string) #call the function\n",
        "print('Uppercase letters count:',counted_islower) #print the result\n"
      ],
      "metadata": {
        "colab": {
          "base_uri": "https://localhost:8080/"
        },
        "id": "wUMlLL4E0M6h",
        "outputId": "a627aac6-24a4-44bd-dd57-88296d515118"
      },
      "execution_count": null,
      "outputs": [
        {
          "output_type": "stream",
          "name": "stdout",
          "text": [
            "Uppercase letters count: 14\n"
          ]
        }
      ]
    },
    {
      "cell_type": "code",
      "source": [
        "#28. Swap the case of each character in a string.\n",
        "def swap_case(input_string): #Define the function\n",
        "  output_string =''\n",
        "  for i in input_string:\n",
        "    if i.islower()==True: #function to check whether lowercase or not\n",
        "        output_string += i.capitalize() #If it is lower case, change it to Uppercase\n",
        "    elif i.isupper() == True: #function to check whether uppercase or not\n",
        "        output_string += i.lower() #If it is upper case, change it to Lowercase\n",
        "    else: #If it is neither upper case nor lowercase, mean digits\n",
        "        output_string += i\n",
        "  return output_string\n",
        "\n",
        "test_string ='Welcome to my home'\n",
        "swap_char = swap_case(test_string)\n",
        "print('Swapping the case of characters:',swap_char)\n"
      ],
      "metadata": {
        "colab": {
          "base_uri": "https://localhost:8080/"
        },
        "id": "uH6XyMC-uXGY",
        "outputId": "cf0feff2-64ee-43c9-8e2e-9927ca17a466"
      },
      "execution_count": null,
      "outputs": [
        {
          "output_type": "stream",
          "name": "stdout",
          "text": [
            "Swapping the case of characters: wELCOME TO MY HOME\n"
          ]
        }
      ]
    },
    {
      "cell_type": "code",
      "source": [
        "#29. Remove a specific word from a string.\n",
        "def rem_word(input_str,remv_word):  #define the function\n",
        "  join_str = ''\n",
        "  split_words = input_str.split() #split the string - output is list\n",
        "  split_words.remove(remv_word) #remove the mentioned word from the list\n",
        "  join_str =' '.join(split_words) #join the list to make it as a string\n",
        "  return join_str #return the final modified string\n",
        "\n",
        "input_str ='All is well'\n",
        "remv_word = 'is'\n",
        "modified_str = rem_word(input_str,remv_word) #call the function\n",
        "print('Modified String: ',modified_str) #print the output"
      ],
      "metadata": {
        "colab": {
          "base_uri": "https://localhost:8080/"
        },
        "id": "jMCDkLOXA8x9",
        "outputId": "24fb70f3-e0d0-49b4-c3a0-9305b7bb9a66"
      },
      "execution_count": null,
      "outputs": [
        {
          "output_type": "stream",
          "name": "stdout",
          "text": [
            "Modified String:  All well\n"
          ]
        }
      ]
    },
    {
      "cell_type": "code",
      "source": [
        "#30. Check if a string is a valid email address.\n",
        "import re\n",
        "def validate_email(email):\n",
        "    if re.match(r\"[^@]+@[^@]+\\.[^@]+\", email):  #match the string against pattern of mail\n",
        "        return True\n",
        "    return False\n",
        "\n",
        "email = \"example@domain.com\"\n",
        "if validate_email(email):  #call the function and check it is true\n",
        "    print(\"Valid email address\")  #print the output\n",
        "else:\n",
        "    print(\"Invalid email address\")  #print the output"
      ],
      "metadata": {
        "colab": {
          "base_uri": "https://localhost:8080/"
        },
        "id": "x2yEj5LFEbvJ",
        "outputId": "ff9bcd9d-bc65-481c-bc67-bb7bbfe57dba"
      },
      "execution_count": null,
      "outputs": [
        {
          "output_type": "stream",
          "name": "stdout",
          "text": [
            "Valid email address\n"
          ]
        }
      ]
    },
    {
      "cell_type": "code",
      "source": [
        "#31. Extract the username from an email address string.\n",
        "def extract_username(email):\n",
        "    username = email.split('@')[0]  # Split the email address at \"@\" and take the first part\n",
        "    return username\n",
        "\n",
        "# Example email address\n",
        "email = \"learnerpractise@gmail.com\"\n",
        "result = extract_username(email) #call the function\n",
        "print(result) #print the username"
      ],
      "metadata": {
        "colab": {
          "base_uri": "https://localhost:8080/"
        },
        "id": "z43GDOUFFnb8",
        "outputId": "39fd1842-2aa9-472f-b3f2-fabf54fa0155"
      },
      "execution_count": null,
      "outputs": [
        {
          "output_type": "stream",
          "name": "stdout",
          "text": [
            "learnerpractise\n"
          ]
        }
      ]
    },
    {
      "cell_type": "code",
      "source": [
        "#32. Extract the domain name from an email address string.\n",
        "def extract_domain(email):\n",
        "    domain = email.split('@')[1]  # Split the email address at \"@\" and take the second part\n",
        "    return domain\n",
        "\n",
        "email = \"learnerpractise@gmail.com\"\n",
        "result = extract_domain(email) #call the function\n",
        "print(result) #print the domainname"
      ],
      "metadata": {
        "colab": {
          "base_uri": "https://localhost:8080/"
        },
        "id": "6kjq-SKUG5-a",
        "outputId": "26af0077-85a1-4d2a-e396-291d09c07517"
      },
      "execution_count": null,
      "outputs": [
        {
          "output_type": "stream",
          "name": "stdout",
          "text": [
            "gmail.com\n"
          ]
        }
      ]
    },
    {
      "cell_type": "code",
      "source": [
        "#33. Replace multiple spaces in a string with a single space.\n",
        "def rem_multiple_space(input_str):  #define the function\n",
        "  join_str = ''\n",
        "  split_words = input_str.split() #split the string - output is list\n",
        "  join_str =' '.join(split_words) #join the list with one space and make it as a string\n",
        "  return join_str #return the final modified string\n",
        "\n",
        "input_str ='   All    is          well                   '\n",
        "modified_str = rem_multiple_space(input_str) #call the function\n",
        "print('Modified String: ',modified_str) #print the output\n"
      ],
      "metadata": {
        "colab": {
          "base_uri": "https://localhost:8080/"
        },
        "id": "7F7dQoJqINu3",
        "outputId": "2e707d23-9fbb-4fb9-cfd1-44dd34e3abd2"
      },
      "execution_count": null,
      "outputs": [
        {
          "output_type": "stream",
          "name": "stdout",
          "text": [
            "Modified String:  All is well\n"
          ]
        }
      ]
    },
    {
      "cell_type": "code",
      "source": [
        "#34. Check if a string is a valid URL.\n",
        "from urllib.parse import urlparse\n",
        "def is_url(url): #define the function\n",
        "  try:\n",
        "    result = urlparse(url)\n",
        "    return all([result.scheme, result.netloc])\n",
        "  except ValueError:\n",
        "    return False\n",
        "\n",
        "input_url ='http://iz-blockchain.com'\n",
        "resultv = is_url(input_url)\n",
        "if resultv == True :\n",
        "  print('Valid URL')\n",
        "else:\n",
        "  print('Invalid URL')\n"
      ],
      "metadata": {
        "colab": {
          "base_uri": "https://localhost:8080/"
        },
        "id": "TgSZBTDNI9vx",
        "outputId": "64e8373c-ad2e-4a27-f0f9-0d3e85e1195e"
      },
      "execution_count": null,
      "outputs": [
        {
          "output_type": "stream",
          "name": "stdout",
          "text": [
            "Valid URL\n"
          ]
        }
      ]
    },
    {
      "cell_type": "code",
      "source": [
        "#35. Extract the protocol (http or https) from a URL string.\n",
        "from urllib.parse import urlparse\n",
        "def is_url(url): #define the function\n",
        "  try:\n",
        "    result = urlparse(url)\n",
        "    return all([result.scheme, result.netloc])\n",
        "  except ValueError:\n",
        "    return False\n",
        "\n",
        "input_url ='http://iz-blockchain.com'\n",
        "resultv = urlparse(input_url)\n",
        "protocol = resultv.scheme\n",
        "print('Protocol is ' + protocol)"
      ],
      "metadata": {
        "colab": {
          "base_uri": "https://localhost:8080/"
        },
        "id": "4UkmlDffL-Yr",
        "outputId": "3856ecd3-ee30-4ad5-9349-6fcc996a4a34"
      },
      "execution_count": null,
      "outputs": [
        {
          "output_type": "stream",
          "name": "stdout",
          "text": [
            "Protocol is http\n"
          ]
        }
      ]
    },
    {
      "cell_type": "code",
      "source": [
        "#36. Find the frequency of each character in a string.\n",
        "test_str = \"malayalam\" # initializing string\n",
        "all_freq = {} #empty dictionary\n",
        "for i in test_str:\n",
        "    if i in all_freq:\n",
        "        all_freq[i] += 1\n",
        "    else:\n",
        "        all_freq[i] = 1\n",
        "\n",
        "# printing result\n",
        "print(\"Count of all characters is :\\n \"+ str(all_freq))"
      ],
      "metadata": {
        "colab": {
          "base_uri": "https://localhost:8080/"
        },
        "id": "4zBSOEcoMZy4",
        "outputId": "66421831-296d-41de-fa78-08e3067ac33f"
      },
      "execution_count": null,
      "outputs": [
        {
          "output_type": "stream",
          "name": "stdout",
          "text": [
            "Count of all characters is :\n",
            " {'m': 2, 'a': 4, 'l': 2, 'y': 1}\n"
          ]
        }
      ]
    },
    {
      "cell_type": "code",
      "source": [
        "#37. Remove all punctuation from a string.\n",
        "import string\n",
        "\n",
        "def remove_all_punctuation(input_string):\n",
        "    # Make a translation table that maps all punctuation characters to None\n",
        "    translator = str.maketrans(\"\", \"\", string.punctuation)\n",
        "\n",
        "    # Apply the translation table to the input string\n",
        "    result = input_string.translate(translator)\n",
        "\n",
        "    return result\n",
        "\n",
        "# Sample string with punctuation marks and spaces\n",
        "text = \"Hello, world! This is a sample string with punctuation. And spaces!\"\n",
        "\n",
        "# Remove punctuation from the string\n",
        "output = remove_all_punctuation(text)\n",
        "\n",
        "# Print the original and modified strings\n",
        "print(\"Original string:\", text)\n",
        "print(\"String without punctuation:\", output)"
      ],
      "metadata": {
        "colab": {
          "base_uri": "https://localhost:8080/"
        },
        "id": "UTrVV7ZxOnAM",
        "outputId": "366417ed-2820-4916-db4e-2e273980f14d"
      },
      "execution_count": null,
      "outputs": [
        {
          "output_type": "stream",
          "name": "stdout",
          "text": [
            "Original string: Hello, world! This is a sample string with punctuation. And spaces!\n",
            "String without punctuation: Hello world This is a sample string with punctuation And spaces\n"
          ]
        }
      ]
    },
    {
      "cell_type": "code",
      "source": [
        "#38. Check if a string contains only digits.\n",
        "def check_only_digits(input_string):\n",
        "    # Check if all characters in the string are digits\n",
        "    return input_string.isdigit()\n",
        "\n",
        "string_input = \"Meeting at 1600\"\n",
        "result = check_only_digits(string_input) #calling the function\n",
        "print(f\"'{string_input}' contains only digits:\", result) #Print the results\n"
      ],
      "metadata": {
        "colab": {
          "base_uri": "https://localhost:8080/"
        },
        "id": "digUBzCQOq__",
        "outputId": "81a771b0-e15f-4bd6-ba91-7004cd9ed4d4"
      },
      "execution_count": null,
      "outputs": [
        {
          "output_type": "stream",
          "name": "stdout",
          "text": [
            "'Meeting at 1600' contains only digits: False\n"
          ]
        }
      ]
    },
    {
      "cell_type": "code",
      "source": [
        "#39. Check if a string contains only alphabets.\n",
        "def check_only_alphabets(input_string):\n",
        "    # Check if all characters in the string are alphabets\n",
        "    return input_string.isalpha()\n",
        "\n",
        "string_input = \"Meeting at 1600\"\n",
        "result = check_only_alphabets(string_input) #calling the function\n",
        "print(f\"'{string_input}' contains only alphabets:\", result) #Print the results\n"
      ],
      "metadata": {
        "colab": {
          "base_uri": "https://localhost:8080/"
        },
        "id": "KqRB2FLsStFA",
        "outputId": "02e58333-fc8e-41cc-e472-d0ca4a054bce"
      },
      "execution_count": null,
      "outputs": [
        {
          "output_type": "stream",
          "name": "stdout",
          "text": [
            "'Meeting at 1600' contains only alphabets: False\n"
          ]
        }
      ]
    },
    {
      "cell_type": "code",
      "source": [
        "#40. Convert a string to a list of characters.\n",
        "def string_to_list(input_string): #define the function\n",
        "  return list(input_string) #convert string to list\n",
        "\n",
        "input_string ='welcome' #string declaration\n",
        "k = string_to_list(input_string) #calling the function\n",
        "print(f\"String '{input_string}' converted to List as :\", k) #Print the results"
      ],
      "metadata": {
        "colab": {
          "base_uri": "https://localhost:8080/"
        },
        "id": "uBAAF6LeS9Yi",
        "outputId": "de4e8734-32d5-44c0-95b8-c22a80ed99e0"
      },
      "execution_count": null,
      "outputs": [
        {
          "output_type": "stream",
          "name": "stdout",
          "text": [
            "String 'welcome' converted to List as : ['w', 'e', 'l', 'c', 'o', 'm', 'e']\n"
          ]
        }
      ]
    },
    {
      "cell_type": "code",
      "source": [
        "#41. Check if two strings are anagrams.\n",
        "def check_anagrams(string1, string2): #function to check the anagram\n",
        "     if(sorted(string1)== sorted(string2)): # the sorted strings are checked\n",
        "        print(f\"String '{string1}' and '{string2}' are anagrams.\")\n",
        "     else:\n",
        "        print(f\"String '{string1}' and '{string2}' aren't anagrams.\")\n",
        "\n",
        "input1 =\"listen\"\n",
        "input2 =\"silent\"\n",
        "input3 ='violet'\n",
        "input4 = 'violent'\n",
        "check_anagrams(input1, input2)\n",
        "check_anagrams(input2, input3)\n",
        "check_anagrams(input3,input4)\n"
      ],
      "metadata": {
        "colab": {
          "base_uri": "https://localhost:8080/"
        },
        "id": "QcqQGB6_Y8EN",
        "outputId": "ff62ba71-19f9-431b-964c-f234c5db3609"
      },
      "execution_count": null,
      "outputs": [
        {
          "output_type": "stream",
          "name": "stdout",
          "text": [
            "String 'listen' and 'silent' are anagrams.\n",
            "String 'silent' and 'violet' aren't anagrams.\n",
            "String 'violet' and 'violent' aren't anagrams.\n"
          ]
        }
      ]
    },
    {
      "cell_type": "code",
      "source": [
        "#42. Encode a string using a Caesar cipher.\n",
        "def encode_caesar_cipher(text, shift): # Define a function\n",
        "  encoded_text = \"\" #empty string\n",
        "  for char in text: # Iterate through each character in the input string.\n",
        "    if char.isalpha(): # Check if the character is alphabetic.\n",
        "       encoded_char = chr((ord(char) + shift - ord('a')) % 26 + ord('a')) #shift to mentioned position to get the unicode\n",
        "    else:\n",
        "      encoded_char = char #If non-alphabetic, then keep as it is.\n",
        "    encoded_text += encoded_char # Append the encoded character\n",
        "  return encoded_text # Return the result\n",
        "\n",
        "text = \"datascientist\"\n",
        "shift = 3\n",
        "encoded_text = encode_caesar_cipher(text, shift) #call the function\n",
        "print(\"Encoded text:\", encoded_text) # Print the final encoded value."
      ],
      "metadata": {
        "colab": {
          "base_uri": "https://localhost:8080/"
        },
        "id": "WadSaRUQQzJ6",
        "outputId": "c42b1680-4686-4121-a976-2b86b6096805"
      },
      "execution_count": null,
      "outputs": [
        {
          "output_type": "stream",
          "name": "stdout",
          "text": [
            "Encoded text: gdwdvflhqwlvw\n"
          ]
        }
      ]
    },
    {
      "cell_type": "code",
      "source": [
        "#43. Decode a Caesar cipher encoded string.\n",
        "def decode_caesar_cipher(text, shift): # Define a function\n",
        "  decoded_text = \"\" #empty string\n",
        "  for char in text: # Iterate through each character in the input string.\n",
        "    if char.isalpha(): # Check if the character is alphabetic.\n",
        "       decoded_char = chr((ord(char) - shift - ord('a')) % 26 + ord('a')) #shift to mentioned position to get the decoded value\n",
        "    else:\n",
        "      decoded_char = char #If non-alphabetic, then keep as it is.\n",
        "    decoded_text += decoded_char # Append the decoded character\n",
        "  return decoded_text # Return the result\n",
        "\n",
        "text = \"gdwdvflhqwlvw\"\n",
        "shift = 3\n",
        "decoded_text = decode_caesar_cipher(text, shift) #call the function\n",
        "print(\"Decoded text:\", decoded_text) # Print the final decoded value."
      ],
      "metadata": {
        "colab": {
          "base_uri": "https://localhost:8080/"
        },
        "id": "amKYOChAdqLW",
        "outputId": "1fefecd3-95b5-4c77-9057-c36737482db0"
      },
      "execution_count": null,
      "outputs": [
        {
          "output_type": "stream",
          "name": "stdout",
          "text": [
            "Decoded text: datascientist\n"
          ]
        }
      ]
    },
    {
      "cell_type": "code",
      "source": [
        "#44. Find the most frequent word in a string.\n",
        "from collections import Counter\n",
        "def most_frequent_word(input_string):\n",
        "    formatted_string = input_string.lower() #change all to lower case for uniformity to get the count of words properly\n",
        "    words = formatted_string.split() # Split the string into lists\n",
        "    word_counter = Counter(words) # get the count of words\n",
        "    print(f\"'{words}' count:\",word_counter)\n",
        "    freq_word = word_counter.most_common(1)[0][0]\n",
        "    return freq_word\n",
        "\n",
        "input_str = \"Data analyst know how to handle data well\"\n",
        "most_common = most_frequent_word(input_str) #calling the function\n",
        "print(\"Most frequent word:\", most_common) # Print the result"
      ],
      "metadata": {
        "colab": {
          "base_uri": "https://localhost:8080/"
        },
        "id": "JT6_j_bpekVc",
        "outputId": "525d3c36-36e5-40e5-b501-634601a1eb9c"
      },
      "execution_count": null,
      "outputs": [
        {
          "output_type": "stream",
          "name": "stdout",
          "text": [
            "'['data', 'analyst', 'know', 'how', 'to', 'handle', 'data', 'well']' count: Counter({'data': 2, 'analyst': 1, 'know': 1, 'how': 1, 'to': 1, 'handle': 1, 'well': 1})\n",
            "Most frequent word: data\n"
          ]
        }
      ]
    },
    {
      "cell_type": "code",
      "source": [
        "#45. Find all unique words in a string.\n",
        "def all_unique_words(input_string):\n",
        "    # Remove punctuation and convert to lowercase\n",
        "    clean_string = re.sub(r'[^\\w\\s]', '', input_string).lower()  #removes any punctiation if any and converts to lower\n",
        "    words = set(clean_string.split()) # Split the string into lists - list doesn't allow duplicates.\n",
        "    return words\n",
        "\n",
        "input_str = \"Data analyst know how to handle data well\"\n",
        "final_output = all_unique_words(input_str)\n",
        "print(f\"All Unique words in '{input_str}':\", final_output) # Print the result"
      ],
      "metadata": {
        "colab": {
          "base_uri": "https://localhost:8080/"
        },
        "id": "FFNpVbe5g2Ua",
        "outputId": "773b1ddc-7e71-4b66-a5b8-6cf19e9c9ddc"
      },
      "execution_count": null,
      "outputs": [
        {
          "output_type": "stream",
          "name": "stdout",
          "text": [
            "All Unique words in 'Data analyst know how to handle data well': {'analyst', 'data', 'well', 'know', 'to', 'handle', 'how'}\n"
          ]
        }
      ]
    },
    {
      "cell_type": "code",
      "source": [
        "#46. Count the number of syllables in a string.\n",
        "import re #import the module for regular expression\n",
        "def count_no_syllables(word): #define the function\n",
        "    vowel_groups = re.findall(r'[aeiouy]+', word, re.IGNORECASE) #count the vowels with ignoring\n",
        "    return len(vowel_groups)\n",
        "\n",
        "word1 = \"Sometimes\"\n",
        "word2 = \"Education\"\n",
        "word3 = \"Knowledge\"\n",
        "\n",
        "# call  the function\n",
        "syllables1 = count_no_syllables(word1)\n",
        "syllables2 = count_no_syllables(word2)\n",
        "syllables3 = count_no_syllables(word3)\n",
        "\n",
        "# Print the results\n",
        "print(f\"'{word1}' has {syllables1} syllables.\")\n",
        "print(f\"'{word2}' has {syllables2} syllables.\")\n",
        "print(f\"'{word3}' has {syllables3} syllables.\")"
      ],
      "metadata": {
        "colab": {
          "base_uri": "https://localhost:8080/"
        },
        "id": "O_65GiEpiBFO",
        "outputId": "cf303976-5c5a-4cee-cc66-99772ed22b5a"
      },
      "execution_count": null,
      "outputs": [
        {
          "output_type": "stream",
          "name": "stdout",
          "text": [
            "'Sometimes' has 4 syllables.\n",
            "'Education' has 4 syllables.\n",
            "'Knowledge' has 3 syllables.\n"
          ]
        }
      ]
    },
    {
      "cell_type": "code",
      "source": [
        "#47. Check if a string contains any special characters.\n",
        "import re #import the module for regular expression\n",
        "def special_characters(input_string): #define the function\n",
        "     pattern = re.compile(r'[!@#$%^&*()_+{}\\[\\]:;<>,.?~\\\\/]') # regular expression pattern to match special characters\n",
        "     match = pattern.search(input_string) # Use the search() method to find a match\n",
        "     return bool(match)  # Return True if a match is found, False otherwise\n",
        "\n",
        "# Example strings\n",
        "string1 = \"Home Sweet Home\"\n",
        "string2 = \"Knowledge is power!!!\"\n",
        "string3 = \"https:google.com;learnerpractise@gmail.com\"\n",
        "\n",
        "# Call the functions to Check if strings contain special characters\n",
        "result1 = special_characters(string1)\n",
        "result2 = special_characters(string2)\n",
        "result3 = special_characters(string3)\n",
        "\n",
        "# Print the results\n",
        "print(f\"'{string1}' contains special characters:\", result1)\n",
        "print(f\"'{string2}' contains special characters:\", result2)\n",
        "print(f\"'{string3}' contains special characters:\", result3)"
      ],
      "metadata": {
        "colab": {
          "base_uri": "https://localhost:8080/"
        },
        "id": "zlhfg6Adh1Iq",
        "outputId": "8af57896-0bea-49d4-aa74-8da576cf00c3"
      },
      "execution_count": null,
      "outputs": [
        {
          "output_type": "stream",
          "name": "stdout",
          "text": [
            "'Home Sweet Home' contains special characters: False\n",
            "'Knowledge is power!!!' contains special characters: True\n",
            "'https:google.com;learnerpractise@gmail.com' contains special characters: True\n"
          ]
        }
      ]
    },
    {
      "cell_type": "code",
      "source": [
        "#48. Remove the nth word from a string.\n",
        "def remove_nth_word(input_string, n): #define the function\n",
        "    words = input_string.split()  # Split the input string into lists\n",
        "    if n >= 1 and n <= len(words):   # Check if n is within a valid range\n",
        "        removed_word = words.pop(n - 1)  # Remove the nth word\n",
        "        modified_string = ' '.join(words)  # Join the words now\n",
        "        return modified_string, removed_word\n",
        "    else:\n",
        "        return None, None\n",
        "\n",
        "input_str = input('Enter the string')\n",
        "n_value = int(input('Enter the value to remove'))\n",
        "\n",
        "modified_str, removed_word = remove_nth_word(input_str, n_value) #call the function\n",
        "\n",
        "# Print the results\n",
        "print(\"Original string:\", input_str)\n",
        "if modified_str is not None:\n",
        "    print(\"Modified string:\", modified_str)\n",
        "    print(\"Removed word:\", removed_word)\n",
        "else:\n",
        "    print(\"Invalid n value.\")"
      ],
      "metadata": {
        "colab": {
          "base_uri": "https://localhost:8080/"
        },
        "id": "mr-rz3bDkIKB",
        "outputId": "2c886c76-fd7d-4306-b898-38025502283d"
      },
      "execution_count": null,
      "outputs": [
        {
          "output_type": "stream",
          "name": "stdout",
          "text": [
            "Enter the stringConsistent, Hardwork never fails\n",
            "Enter the value to remove2\n",
            "Original string: Consistent, Hardwork never fails\n",
            "Modified string: Consistent, never fails\n",
            "Removed word: Hardwork\n"
          ]
        }
      ]
    },
    {
      "cell_type": "code",
      "source": [
        "#49. Insert a word at the nth position in a string.\n",
        "def remove_nth_word(input_string, index,elem): #define the function\n",
        "    words = input_string.split()  # Split the input string into lists\n",
        "    if index >= 1 and index <= len(words):   # Check if n is within a valid range\n",
        "        added_word = words.insert(index, elem)  # Add the new word at nth position\n",
        "        modified_string = ' '.join(words)  # Join the words now\n",
        "        return modified_string, added_word\n",
        "    else:\n",
        "        return None, None\n",
        "\n",
        "input_str = input('Enter the string: ')\n",
        "index = int(input('Enter the index position to insert new word: '))\n",
        "elem =  input('Enter the string to add: ')\n",
        "\n",
        "modified_str, added_word = remove_nth_word(input_str, index ,elem) #call the function\n",
        "\n",
        "# Print the results\n",
        "print(\"Original string:\", input_str)\n",
        "if modified_str is not None:\n",
        "    print(\"Modified string:\", modified_str)\n",
        "    print(\"Added word:\", elem)\n",
        "else:\n",
        "    print(\"Invalid n value.\")"
      ],
      "metadata": {
        "colab": {
          "base_uri": "https://localhost:8080/"
        },
        "id": "1RAnOBBSlpJK",
        "outputId": "223eb544-6ce8-4dc0-daa7-354ade870366"
      },
      "execution_count": null,
      "outputs": [
        {
          "output_type": "stream",
          "name": "stdout",
          "text": [
            "Enter the string: Hardwork never fails\n",
            "Enter the index position to insert new word: 1\n",
            "Enter the string to add: Smartwork\n",
            "Original string: Hardwork never fails\n",
            "Modified string: Hardwork Smartwork never fails\n",
            "Added word: Smartwork\n"
          ]
        }
      ]
    },
    {
      "cell_type": "code",
      "source": [
        "#50. Convert a CSV string to a list of lists.\n",
        "def csv_string_to_list(csv_string): #define function\n",
        "    lines = csv_string.split('\\n') # Split the string into lines\n",
        "    result = []\n",
        "    for line in lines:\n",
        "        fields = line.split(',') # convert to lists separated by comma\n",
        "        result.append(fields)  # Making as a row\n",
        "    return result\n",
        "\n",
        "csv_string = \"ProductId, Productname, Amount\\nP001, SmartWatch, 10000\\nP002, Speaker, 15000\\nP003, LEDTV, 60000\"\n",
        "\n",
        "list_of_lists = csv_string_to_list(csv_string) #call the function to convert to lists\n",
        "\n",
        "# Print the result\n",
        "for row in list_of_lists:\n",
        "    print(row)\n"
      ],
      "metadata": {
        "colab": {
          "base_uri": "https://localhost:8080/"
        },
        "id": "vV--W42WnbAP",
        "outputId": "d55fd752-68b6-4a5f-9f8e-6349591a8aeb"
      },
      "execution_count": null,
      "outputs": [
        {
          "output_type": "stream",
          "name": "stdout",
          "text": [
            "['ProductId', ' Productname', ' Amount']\n",
            "['P001', ' SmartWatch', ' 10000']\n",
            "['P002', ' Speaker', ' 15000']\n",
            "['P003', ' LEDTV', ' 60000']\n"
          ]
        }
      ]
    },
    {
      "cell_type": "code",
      "source": [
        "#List Based Practice Problem :\n",
        "#1. Create a list with integers from 1 to 10.\n",
        "int_list = [i for i in range(1, 11)] #create a list from range\n",
        "print(int_list) # Print the list"
      ],
      "metadata": {
        "colab": {
          "base_uri": "https://localhost:8080/"
        },
        "id": "6dwiUaWeG7L_",
        "outputId": "82c3289c-2102-4e17-e8d6-154c072806f8"
      },
      "execution_count": null,
      "outputs": [
        {
          "output_type": "stream",
          "name": "stdout",
          "text": [
            "[1, 2, 3, 4, 5, 6, 7, 8, 9, 10]\n"
          ]
        }
      ]
    },
    {
      "cell_type": "code",
      "source": [
        "#2. Find the length of a list without using the `len()` function.\n",
        "def find_len_list(input_list): #define a function with input as list\n",
        "  count = 0 #variable to hold the count\n",
        "  for i in input_list: #Iterate through the list to count the length\n",
        "   count += 1\n",
        "  return count\n",
        "\n",
        "list_l = [\"Its\",\"Monday\",\"today\"]\n",
        "count_list = find_len_list(list_l) #call the function\n",
        "print(f\"Length of '{list_l}' is\", count_list)  #print the count"
      ],
      "metadata": {
        "colab": {
          "base_uri": "https://localhost:8080/"
        },
        "id": "U0zvzz5kIKQV",
        "outputId": "f618368e-214d-40e0-dd77-5f8432f67ed8"
      },
      "execution_count": null,
      "outputs": [
        {
          "output_type": "stream",
          "name": "stdout",
          "text": [
            "Length of '['Its', 'Monday', 'today']' is 3\n"
          ]
        }
      ]
    },
    {
      "cell_type": "code",
      "source": [
        "#3. Append an element to the end of a list.\n",
        "orig_list = [\"Sunday\",\"Monday\",\"Tuesday\"]\n",
        "print(f\"Original List: {orig_list}\") #print before appending the new element\n",
        "orig_list.append(\"Wednesday\") #append the new element at the end\n",
        "print(f\"Modified List: {orig_list}\") #print after adding new element to the list"
      ],
      "metadata": {
        "colab": {
          "base_uri": "https://localhost:8080/"
        },
        "id": "uN3FuQG7JuPd",
        "outputId": "5838aa94-9a66-45a5-93cf-577b214150b7"
      },
      "execution_count": null,
      "outputs": [
        {
          "output_type": "stream",
          "name": "stdout",
          "text": [
            "Original List: ['Sunday', 'Monday', 'Tuesday']\n",
            "Modified List: ['Sunday', 'Monday', 'Tuesday', 'Wednesday']\n"
          ]
        }
      ]
    },
    {
      "cell_type": "code",
      "source": [
        "#4. Insert an element at a specific index in a list\n",
        "org_list = [\"January\",\"March\",\"April\"]\n",
        "print(f\"Original List: {org_list}\") #print before inserting the new element\n",
        "org_list.insert(1,\"February\") #insert the new element at a specified index\n",
        "print(f\"Modified List: {org_list}\") #print after adding new element to the list"
      ],
      "metadata": {
        "colab": {
          "base_uri": "https://localhost:8080/"
        },
        "id": "6tvynsxlLPWk",
        "outputId": "8660b7c2-76ea-4553-bf05-752b5cfa4ff6"
      },
      "execution_count": null,
      "outputs": [
        {
          "output_type": "stream",
          "name": "stdout",
          "text": [
            "Original List: ['January', 'March', 'April']\n",
            "Modified List: ['January', 'February', 'March', 'April']\n"
          ]
        }
      ]
    },
    {
      "cell_type": "code",
      "source": [
        "#5. Remove an element from a list by its value\n",
        "or_list = [\"January\",\"February\",\"March\",\"April\"]\n",
        "print(f\"Original List: {or_list}\") #print before removing element\n",
        "or_list.remove(\"April\") #remove the element in the list with value\n",
        "print(f\"Modified List: {or_list}\") #print the list\n"
      ],
      "metadata": {
        "colab": {
          "base_uri": "https://localhost:8080/"
        },
        "id": "XiXV25jgLgIR",
        "outputId": "b19dd4a9-8f4c-4eeb-b546-3427127842be"
      },
      "execution_count": null,
      "outputs": [
        {
          "output_type": "stream",
          "name": "stdout",
          "text": [
            "Original List: ['January', 'February', 'March', 'April']\n",
            "Modified List: ['January', 'February', 'March']\n"
          ]
        }
      ]
    },
    {
      "cell_type": "code",
      "source": [
        "#6. Remove an element from a list by its index\n",
        "or_list = [\"January\",\"February\",\"March\",\"April\"]\n",
        "print(f\"Original List: {or_list}\") #print before removing element\n",
        "or_list.pop(3) #remove the element in the list with index\n",
        "print(f\"Modified List: {or_list}\") #print the list"
      ],
      "metadata": {
        "colab": {
          "base_uri": "https://localhost:8080/"
        },
        "id": "wFDM0oUGMi5u",
        "outputId": "2103213d-4d76-462e-b4a6-77649b383569"
      },
      "execution_count": null,
      "outputs": [
        {
          "output_type": "stream",
          "name": "stdout",
          "text": [
            "Original List: ['January', 'February', 'March', 'April']\n",
            "Modified List: ['January', 'February', 'March']\n"
          ]
        }
      ]
    },
    {
      "cell_type": "code",
      "source": [
        "#7. Check if an element exists in a list.\n",
        "def if_elem_exists(input_string,elem_to_check): #define the function\n",
        "  if elem_to_check in or_list: #if condition to check the element is exists in list\n",
        "   print(f\"'{elem_to_check}' exists in {or_list}\") #print the result\n",
        "  else:\n",
        "   print(f\"'{elem_to_check}' doesn't exists in {or_list}\") #print the result\n",
        "\n",
        "or_list = [\"January\",\"February\",\"March\",\"April\"]\n",
        "string1 = 'May'\n",
        "string2 =\"March\"\n",
        "#call the function\n",
        "if_elem_exists(or_list,string1)\n",
        "if_elem_exists(or_list,string2)"
      ],
      "metadata": {
        "colab": {
          "base_uri": "https://localhost:8080/"
        },
        "id": "GWXA6h29M5ip",
        "outputId": "1002b295-c946-4762-e7c4-69ee0fe4b45b"
      },
      "execution_count": null,
      "outputs": [
        {
          "output_type": "stream",
          "name": "stdout",
          "text": [
            "'May' doesn't exists in ['January', 'February', 'March', 'April']\n",
            "'March' exists in ['January', 'February', 'March', 'April']\n"
          ]
        }
      ]
    },
    {
      "cell_type": "code",
      "source": [
        "#8. Find the index of the first occurrence of an element in a list.\n",
        "list_var =[11,2,3,4,2,3,6]\n",
        "search_elem = 2 #element to search in the list\n",
        "pos_var = list_var.index(search_elem) #find the index of an element using index\n",
        "print(f\" Position of '{search_elem}' in {list_var} is {pos_var}\") #print the result"
      ],
      "metadata": {
        "colab": {
          "base_uri": "https://localhost:8080/"
        },
        "id": "4OhGEpe7Pcu5",
        "outputId": "0e3afa73-1efb-4b04-c2b8-60fce4608774"
      },
      "execution_count": null,
      "outputs": [
        {
          "output_type": "stream",
          "name": "stdout",
          "text": [
            " Position of '2' in [11, 2, 3, 4, 2, 3, 6] is 1\n"
          ]
        }
      ]
    },
    {
      "cell_type": "code",
      "source": [
        "#9. Count the occurrences of an element in a list.\n",
        "list_var =[11,2,3,4,2,3,6,44,3,11,3,4,3]\n",
        "search_elem = 3 #element to search in the list\n",
        "count_var = list_var.count(search_elem) #find the index of an element using index\n",
        "print(f\" Count of '{search_elem}' in {list_var} is {count_var}\") #print the result"
      ],
      "metadata": {
        "colab": {
          "base_uri": "https://localhost:8080/"
        },
        "id": "mtyL4fpiRTUS",
        "outputId": "7ef6732b-27f1-4cef-d2b2-b34a029f3ddb"
      },
      "execution_count": null,
      "outputs": [
        {
          "output_type": "stream",
          "name": "stdout",
          "text": [
            " Count of '3' in [11, 2, 3, 4, 2, 3, 6, 44, 3, 11, 3, 4, 3] is 5\n"
          ]
        }
      ]
    },
    {
      "cell_type": "code",
      "source": [
        "#10. Reverse the order of elements in a list.\n",
        "list_orig =[1,2,3,4,5,6]\n",
        "print(f\"Original list: {list_orig}\") #Before reversing\n",
        "list_orig.reverse() #reverse the list\n",
        "print(f\"Reverse Ordered List: {list_orig}\") #print the result"
      ],
      "metadata": {
        "colab": {
          "base_uri": "https://localhost:8080/"
        },
        "id": "A6akOHuESrhE",
        "outputId": "b0a97950-f4f0-4937-c342-1ab5ba4dfa8d"
      },
      "execution_count": null,
      "outputs": [
        {
          "output_type": "stream",
          "name": "stdout",
          "text": [
            "Original list: [1, 2, 3, 4, 5, 6]\n",
            "Reverse Ordered List: [6, 5, 4, 3, 2, 1]\n"
          ]
        }
      ]
    },
    {
      "cell_type": "code",
      "source": [
        "#11. Sort a list in ascending order.\n",
        "list1 = [100,90,80,70,60,50,40,30,20,10]\n",
        "print(f\"Original list: {list1}\") #Before sorting\n",
        "list1.sort() # Sort the list in ascending order\n",
        "print(f\"Ascending order List:{list1}\") # Print the sorted list"
      ],
      "metadata": {
        "colab": {
          "base_uri": "https://localhost:8080/"
        },
        "id": "x8Q8zO0qVVui",
        "outputId": "ff3af79c-c316-46fe-d4be-96925e63a916"
      },
      "execution_count": null,
      "outputs": [
        {
          "output_type": "stream",
          "name": "stdout",
          "text": [
            "Original list: [100, 90, 80, 70, 60, 50, 40, 30, 20, 10]\n",
            "Ascending order List:[10, 20, 30, 40, 50, 60, 70, 80, 90, 100]\n"
          ]
        }
      ]
    },
    {
      "cell_type": "code",
      "source": [
        "#12. Sort a list in descending order.\n",
        "list2 = [10, 20, 30, 40, 50, 60, 70, 80, 90, 100]\n",
        "print(f\"Original list: {list2}\") #Before sorting\n",
        "list2.sort(reverse=True) # Sort the list in ascending order\n",
        "print(f\"Descending order List:{list2}\") # Print the sorted list"
      ],
      "metadata": {
        "colab": {
          "base_uri": "https://localhost:8080/"
        },
        "id": "F_bimJKnV9La",
        "outputId": "7d44edb5-ca1b-4f3f-925d-7cb91b0afd64"
      },
      "execution_count": null,
      "outputs": [
        {
          "output_type": "stream",
          "name": "stdout",
          "text": [
            "Original list: [10, 20, 30, 40, 50, 60, 70, 80, 90, 100]\n",
            "Descending order List:[100, 90, 80, 70, 60, 50, 40, 30, 20, 10]\n"
          ]
        }
      ]
    },
    {
      "cell_type": "code",
      "source": [
        "#13. Create a list of even numbers from 1 to 20.\n",
        "even_list = [i for i in range(2, 20,2)] #create a even list from range\n",
        "print(even_list) # Print the list"
      ],
      "metadata": {
        "colab": {
          "base_uri": "https://localhost:8080/"
        },
        "id": "5ihaovH5YobB",
        "outputId": "ced1e0d5-7a7e-492c-c360-3055c9fd7381"
      },
      "execution_count": null,
      "outputs": [
        {
          "output_type": "stream",
          "name": "stdout",
          "text": [
            "[2, 4, 6, 8, 10, 12, 14, 16, 18]\n"
          ]
        }
      ]
    },
    {
      "cell_type": "code",
      "source": [
        "#14. Create a list of odd numbers from 1 to 20.\n",
        "odd_list = [i for i in range(1, 20,2)] #create a odd list from range\n",
        "print(odd_list) # Print the list"
      ],
      "metadata": {
        "colab": {
          "base_uri": "https://localhost:8080/"
        },
        "id": "kaEMujxZZ-5F",
        "outputId": "bb253669-907a-4cf5-82e1-5cb56b1b21a8"
      },
      "execution_count": null,
      "outputs": [
        {
          "output_type": "stream",
          "name": "stdout",
          "text": [
            "[1, 3, 5, 7, 9, 11, 13, 15, 17, 19]\n"
          ]
        }
      ]
    },
    {
      "cell_type": "code",
      "source": [
        "#15. Find the sum of all elements in a list.\n",
        "l_list = [i for i in range(1, 20,2)] #create a odd list from range\n",
        "sum_elm = sum(l_list) #to get the sum of all elements in list\n",
        "print(f\"List:{l_list}\\nSum:{sum_elm}\")"
      ],
      "metadata": {
        "colab": {
          "base_uri": "https://localhost:8080/"
        },
        "id": "daw10eCPaUzK",
        "outputId": "73999827-0955-40d2-fb1a-2bc88cbdff40"
      },
      "execution_count": null,
      "outputs": [
        {
          "output_type": "stream",
          "name": "stdout",
          "text": [
            "List:[1, 3, 5, 7, 9, 11, 13, 15, 17, 19]\n",
            "Sum:100\n"
          ]
        }
      ]
    },
    {
      "cell_type": "code",
      "source": [
        "#16. Find the maximum value in a list.\n",
        "l_list = [i for i in range(1, 20,2)] #create a odd list from range\n",
        "max_elm = max(l_list) #to get the max in list\n",
        "print(f\"List:{l_list}\\nMaximum:{max_elm}\")"
      ],
      "metadata": {
        "colab": {
          "base_uri": "https://localhost:8080/"
        },
        "id": "ueBj5Xv9YU5d",
        "outputId": "584af5f8-7fb4-45c5-ee64-f49a3784fb01"
      },
      "execution_count": null,
      "outputs": [
        {
          "output_type": "stream",
          "name": "stdout",
          "text": [
            "List:[1, 3, 5, 7, 9, 11, 13, 15, 17, 19]\n",
            "Maximum:19\n"
          ]
        }
      ]
    },
    {
      "cell_type": "code",
      "source": [
        "from pdb import main\n",
        "# 17. Find the minimum value in a list.\n",
        "l_list = [i for i in range(1, 20,2)] #create a odd list from range\n",
        "min_elm = min(l_list) #to get the minimum in list\n",
        "print(f\"List:{l_list}\\nMinimum:{min_elm}\")\n"
      ],
      "metadata": {
        "colab": {
          "base_uri": "https://localhost:8080/"
        },
        "id": "SzUgGLHOkLzD",
        "outputId": "13a5d7a3-4dc9-4a69-d9a8-596223e3e804"
      },
      "execution_count": null,
      "outputs": [
        {
          "output_type": "stream",
          "name": "stdout",
          "text": [
            "List:[1, 3, 5, 7, 9, 11, 13, 15, 17, 19]\n",
            "Minimum:1\n"
          ]
        }
      ]
    },
    {
      "cell_type": "code",
      "source": [
        "#18. Create a list of squares of numbers from 1 to 10.\n",
        "sqr_list = [i**2 for i in range(1, 11)] #create a square list from range\n",
        "print(f\"Square List:{sqr_list}\") #print the squares list\n"
      ],
      "metadata": {
        "colab": {
          "base_uri": "https://localhost:8080/"
        },
        "id": "nqWwiAmBkftG",
        "outputId": "5ce509cf-f625-42b2-f112-4f39970846dc"
      },
      "execution_count": null,
      "outputs": [
        {
          "output_type": "stream",
          "name": "stdout",
          "text": [
            "Square List:[1, 4, 9, 16, 25, 36, 49, 64, 81, 100]\n"
          ]
        }
      ]
    },
    {
      "cell_type": "code",
      "source": [
        "#19. Create a list of random numbers.\n",
        "import random #import module\n",
        "random_integers = [random.randint(1, 50) for _ in range(10)] #Create random no. list\n",
        "print(\"List of random integers:\", random_integers) # Print list of random numbers."
      ],
      "metadata": {
        "colab": {
          "base_uri": "https://localhost:8080/"
        },
        "id": "4MZIAN7qlVvX",
        "outputId": "181fc042-659b-4c4b-9126-97ca60eb894b"
      },
      "execution_count": null,
      "outputs": [
        {
          "output_type": "stream",
          "name": "stdout",
          "text": [
            "List of random integers: [44, 46, 22, 14, 16, 2, 9, 1, 44, 8]\n"
          ]
        }
      ]
    },
    {
      "cell_type": "code",
      "source": [
        "#20. Remove duplicates from a list.\n",
        "dupl_list = [11, 2, 3, 4, 2, 3, 6, 44, 3, 11, 3, 4, 3]\n",
        "unique_list = list(set(dupl_list)) #convert to set - set is unique and then convert again to list\n",
        "print(\"unique:\", unique_list) # Print the list without duplicates"
      ],
      "metadata": {
        "colab": {
          "base_uri": "https://localhost:8080/"
        },
        "id": "zUsqRwS2mETs",
        "outputId": "edf98c39-9a12-4015-a584-45167c668c3e"
      },
      "execution_count": null,
      "outputs": [
        {
          "output_type": "stream",
          "name": "stdout",
          "text": [
            "unique: [2, 3, 4, 6, 11, 44]\n"
          ]
        }
      ]
    },
    {
      "cell_type": "code",
      "source": [
        "#21. Find the common elements between two lists.\n",
        "list1 = [1,2,3,4,5,6]\n",
        "list2 = [5,6,7,8,9,10]\n",
        "set_l1 = set(list1) #convert the lists to set\n",
        "set_l2 = set(list2) #convert the lists to set\n",
        "if (set_l1 & set_l1): #checks the common between two sets\n",
        "   print(list(set_l1 & set_l2))  #convert the common of two sets to list again and print\n",
        "else:\n",
        "  print(\"No common elements\")"
      ],
      "metadata": {
        "colab": {
          "base_uri": "https://localhost:8080/"
        },
        "id": "dUtiz557msOt",
        "outputId": "5564c450-9e76-49c7-e12f-7ef1f90fe3bf"
      },
      "execution_count": null,
      "outputs": [
        {
          "output_type": "stream",
          "name": "stdout",
          "text": [
            "[5, 6]\n"
          ]
        }
      ]
    },
    {
      "cell_type": "code",
      "source": [
        "#22. Find the difference between two lists.\n",
        "list1 = [1,2,3,4,5,6]\n",
        "list2 = [5,6,7,8,9,10]\n",
        "difference = list(set(list1).difference(list2)) #to find the difference between sets and convert to list again\n",
        "print(\"Difference between lists:\", difference) # Print the result"
      ],
      "metadata": {
        "colab": {
          "base_uri": "https://localhost:8080/"
        },
        "id": "3ap6q7K5tzAE",
        "outputId": "019eb7a7-0f71-43dd-a14c-4eb2250a44ef"
      },
      "execution_count": null,
      "outputs": [
        {
          "output_type": "stream",
          "name": "stdout",
          "text": [
            "Difference between lists: [1, 2, 3, 4]\n"
          ]
        }
      ]
    },
    {
      "cell_type": "code",
      "source": [
        "#23. Merge two lists.\n",
        "list1 = [1,2,3,4,5,6]\n",
        "list2 = [5,6,7,8,9,10]\n",
        "merged = list1 + list2 #to merge the two lists\n",
        "print(\"Merged Lists:\", merged) # Print the result"
      ],
      "metadata": {
        "colab": {
          "base_uri": "https://localhost:8080/"
        },
        "id": "CMZnRDViwh3a",
        "outputId": "eff3b219-6d4a-4a0a-a0af-021631197b9f"
      },
      "execution_count": null,
      "outputs": [
        {
          "output_type": "stream",
          "name": "stdout",
          "text": [
            "Merged Lists: [1, 2, 3, 4, 5, 6, 5, 6, 7, 8, 9, 10]\n"
          ]
        }
      ]
    },
    {
      "cell_type": "code",
      "source": [
        "#24. Multiply all elements in a list by 2.\n",
        "list1 = [1,2,3,4,5,6]\n",
        "multiply_list = [l * 2 for l in list1] #multiply by 2 of list1 to get the 2's multiply list\n",
        "print(\"Multiply Lists:\", multiply_list) # Print the result\n"
      ],
      "metadata": {
        "colab": {
          "base_uri": "https://localhost:8080/"
        },
        "id": "FDktInNfw8fg",
        "outputId": "fd9f4e41-976e-441a-bfc7-851bd629340a"
      },
      "execution_count": null,
      "outputs": [
        {
          "output_type": "stream",
          "name": "stdout",
          "text": [
            "Multiply Lists: [2, 4, 6, 8, 10, 12]\n"
          ]
        }
      ]
    },
    {
      "cell_type": "code",
      "source": [
        "#25. Filter out all even numbers from a list.\n",
        "lis = [1, 2, 3, 4, 5]\n",
        "out = []\n",
        "for num in lis: #iterate through the lists\n",
        "    if num % 2 == 0:     # checking condition\n",
        "        out.append(num)  #appending the even nos. to the list\n",
        "print(\"Even numbers list\",out)\n"
      ],
      "metadata": {
        "colab": {
          "base_uri": "https://localhost:8080/"
        },
        "id": "4RwDkpTczO0B",
        "outputId": "2b8ce36e-a41d-45d5-fcb5-69a621b5648b"
      },
      "execution_count": null,
      "outputs": [
        {
          "output_type": "stream",
          "name": "stdout",
          "text": [
            "Even numbers list [2, 4]\n"
          ]
        }
      ]
    },
    {
      "cell_type": "code",
      "source": [
        "#26. Convert a list of strings to a list of integers.\n",
        "string_list = [\"10\", \"20\", \"30\", \"40\", \"50\"]\n",
        "int_list = [int(x) for x in string_list]#convert to int\n",
        "print(\"List of integers:\", int_list)# Print the list of integers"
      ],
      "metadata": {
        "colab": {
          "base_uri": "https://localhost:8080/"
        },
        "id": "2qbFufzY9hMO",
        "outputId": "f7f79389-9f6c-4f9a-cc1c-d4faf6917667"
      },
      "execution_count": null,
      "outputs": [
        {
          "output_type": "stream",
          "name": "stdout",
          "text": [
            "List of integers: [10, 20, 30, 40, 50]\n"
          ]
        }
      ]
    },
    {
      "cell_type": "code",
      "source": [
        "#27. Convert a list of integers to a list of strings.\n",
        "int_list = [10, 20, 30, 40, 50]\n",
        "string_list = [str(x) for x in string_list]#convert to int\n",
        "print(\"List of strings:\", string_list)# Print the list of strings"
      ],
      "metadata": {
        "colab": {
          "base_uri": "https://localhost:8080/"
        },
        "id": "mwXBXRUP_FuW",
        "outputId": "88a9f494-a6b5-4e79-bb00-aaec0f2036cc"
      },
      "execution_count": null,
      "outputs": [
        {
          "output_type": "stream",
          "name": "stdout",
          "text": [
            "List of strings: ['10', '20', '30', '40', '50']\n"
          ]
        }
      ]
    },
    {
      "cell_type": "code",
      "source": [
        "#28. Flatten a nested list.\n",
        "def flatten_list(nested):#function to flatten\n",
        "    output = []\n",
        "    for sublist in nested: #iterate through the list\n",
        "        if isinstance(sublist, list):\n",
        "            output.extend(flatten_list(sublist)) #recursive function calling the function again\n",
        "        else:\n",
        "            output.append(sublist)\n",
        "    return output\n",
        "\n",
        "nested_list = [[1, 2, 3], [4, 5], [6, 7, 8, 9,[10,11]]]\n",
        "flattened_list = flatten_list(nested_list) # Call function Flatten, the nested list\n",
        "print(\"Flattened list:\", flattened_list) # Print the flattened list"
      ],
      "metadata": {
        "colab": {
          "base_uri": "https://localhost:8080/"
        },
        "id": "K6uIGoZ0_gHT",
        "outputId": "23e27b03-430d-4387-a62b-a44af618956e"
      },
      "execution_count": null,
      "outputs": [
        {
          "output_type": "stream",
          "name": "stdout",
          "text": [
            "Flattened list: [1, 2, 3, 4, 5, 6, 7, 8, 9, 10, 11]\n"
          ]
        }
      ]
    },
    {
      "cell_type": "code",
      "source": [
        "#29. Create a list of the first 10 Fibonacci numbers.\n",
        "def fibonacci(n): #function to generate the fibonacci number\n",
        "    fibonacci_list = [0, 1]  # Initialize the list with the first two Fibonacci numbers\n",
        "    for i in range(2, n):\n",
        "        next_fibonacci = fibonacci_list[i - 1] + fibonacci_list[i - 2]\n",
        "        fibonacci_list.append(next_fibonacci)\n",
        "    return fibonacci_list\n",
        "fibonacci_numbers = fibonacci(10) # Generate the first 10 Fibonacci numbers, call the function\n",
        "print(\"List of the first 10 Fibonacci numbers:\", fibonacci_numbers) # Print the list of Fibonacci numbers"
      ],
      "metadata": {
        "colab": {
          "base_uri": "https://localhost:8080/"
        },
        "id": "tenXUaSLAQqr",
        "outputId": "ead1fa6b-5cb4-4bfc-d697-72f754b32cc3"
      },
      "execution_count": null,
      "outputs": [
        {
          "output_type": "stream",
          "name": "stdout",
          "text": [
            "List of the first 10 Fibonacci numbers: [0, 1, 1, 2, 3, 5, 8, 13, 21, 34]\n"
          ]
        }
      ]
    },
    {
      "cell_type": "code",
      "source": [
        "#30. Check if a list is sorted.\n",
        "def is_sorted(lst): #define a function to check its sorted\n",
        " for i in range(1, len(lst)):\n",
        "       if lst[i] < lst[i - 1]:\n",
        "          return False\n",
        " return True\n",
        "list_input = [10, 20, 30, 40, 50]\n",
        "if is_sorted(list_input):\n",
        "    print(\"The list is sorted in ascending order.\")\n",
        "else:\n",
        "    print(\"The list is not sorted in ascending order.\")"
      ],
      "metadata": {
        "colab": {
          "base_uri": "https://localhost:8080/"
        },
        "id": "IEEKjD6aBzmf",
        "outputId": "ced340dc-e1d1-4f80-bc1f-3090f8bde09b"
      },
      "execution_count": null,
      "outputs": [
        {
          "output_type": "stream",
          "name": "stdout",
          "text": [
            "The list is sorted in ascending order.\n"
          ]
        }
      ]
    },
    {
      "cell_type": "code",
      "source": [
        "# 31. Rotate a list to the left by n positions.\n",
        "def rotate_list_left(lst, n): # Function to rotate a list to the left by n positions\n",
        "    n = n % len(lst)  # Normalize n to handle cases where n is larger than the list length\n",
        "    rotated = lst[n:] + lst[:n]\n",
        "    return rotated\n",
        "\n",
        "my_list = [1, 2, 3, 4, 5, 6]\n",
        "\n",
        "n = 5 # Number of positions to rotate\n",
        "\n",
        "rotated_list = rotate_list_left(my_list, n)# Rotate the list to the left by n positions\n",
        "\n",
        "print(\"Rotated list:\", rotated_list)# Print the rotated list"
      ],
      "metadata": {
        "colab": {
          "base_uri": "https://localhost:8080/"
        },
        "id": "PgMe-nebJlyn",
        "outputId": "12f70c61-4837-4ce2-e0f1-1cd62053b717"
      },
      "execution_count": null,
      "outputs": [
        {
          "output_type": "stream",
          "name": "stdout",
          "text": [
            "Rotated list: [6, 1, 2, 3, 4, 5]\n"
          ]
        }
      ]
    },
    {
      "cell_type": "code",
      "source": [
        "#32. Rotate a list to the right by `n` positions.\n",
        "def rotate_list_right(lst, n): # Function to rotate a list to the right by n positions\n",
        "    n = n % len(lst)  # Normalize n to handle cases where n is larger than the list length\n",
        "    rotated = lst[-n:] + lst[:-n]\n",
        "    return rotated\n",
        "\n",
        "my_list = [1, 2, 3, 4, 5, 6]\n",
        "\n",
        "n = 3 # Number of positions to rotate\n",
        "\n",
        "rotated_list = rotate_list_right(my_list, n)# Rotate the list to the right by n positions\n",
        "\n",
        "print(\"Rotated list:\", rotated_list)# Print the rotated list\n"
      ],
      "metadata": {
        "colab": {
          "base_uri": "https://localhost:8080/"
        },
        "id": "tzb5HJoSnom6",
        "outputId": "fcc84f07-fcc3-4b05-8dc1-4c960d954a52"
      },
      "execution_count": null,
      "outputs": [
        {
          "output_type": "stream",
          "name": "stdout",
          "text": [
            "Rotated list: [4, 5, 6, 1, 2, 3]\n"
          ]
        }
      ]
    },
    {
      "cell_type": "code",
      "source": [
        "#33. Create a list of prime numbers up to 50.\n",
        "def list_prime_no(input): #define a new function\n",
        "   list_prime = [2,3]\n",
        "   for i in range(2,input) : #Iterate through the loop\n",
        "     if i % 2 != 0 and i % 3 !=0 : #if a no. is divisible by 2 or 3 then it is not a prime no.\n",
        "      list_prime.append(int(i)) #adding the no. which is not divisible by 2,3 to the List\n",
        "   return list_prime   #return the list\n",
        "\n",
        "upto = 50 #variable for maximum no. of prime no.\n",
        "list_out = list_prime_no(upto) #call the function\n",
        "print(\"Prime No. List:\", list_out)# Print the result"
      ],
      "metadata": {
        "colab": {
          "base_uri": "https://localhost:8080/"
        },
        "id": "hEmSMdv4ofNz",
        "outputId": "0170c6e3-2f97-44e3-f6e5-2b0a3d5b6584"
      },
      "execution_count": null,
      "outputs": [
        {
          "output_type": "stream",
          "name": "stdout",
          "text": [
            "Prime No. List: [2, 3, 5, 7, 11, 13, 17, 19, 23, 25, 29, 31, 35, 37, 41, 43, 47, 49]\n"
          ]
        }
      ]
    },
    {
      "cell_type": "code",
      "source": [
        "#34. Split a list into chunks of size n.\n",
        "from collections import deque\n",
        "\n",
        "def split_list(input_list, chunk_size):\n",
        "  # Create a deque object from the input list\n",
        "  deque_obj = deque(input_list)\n",
        "  # While the deque object is not empty\n",
        "  while deque_obj:\n",
        "      # Pop chunk_size elements from the left side of the deque object\n",
        "      # and append them to the chunk list\n",
        "      chunk = []\n",
        "      for k in range(chunk_size):\n",
        "        if deque_obj:\n",
        "          chunk.append(deque_obj.popleft())\n",
        "\n",
        "      # Yield the chunk\n",
        "      yield chunk\n",
        "input_list = [1, 2, 3, 4, 5, 6, 7, 8, 9, 10]\n",
        "chunk_size = 3\n",
        "chunks = list(split_list(input_list, chunk_size))\n",
        "print(chunks)\n"
      ],
      "metadata": {
        "colab": {
          "base_uri": "https://localhost:8080/"
        },
        "id": "6Du1Wz-4zPX5",
        "outputId": "1da45253-7b59-4619-87f6-02164279b269"
      },
      "execution_count": null,
      "outputs": [
        {
          "output_type": "stream",
          "name": "stdout",
          "text": [
            "[[1, 2, 3], [4, 5, 6], [7, 8, 9], [10]]\n"
          ]
        }
      ]
    },
    {
      "cell_type": "code",
      "source": [
        "#35. Find the second largest number in a list\n",
        "list_sec =[2,4,8,3,1,7,9,3,9] #list to find from\n",
        "set_s = set(list_sec) # convert to set to remove any duplicates\n",
        "set_s\n",
        "if len(set_s) > 1 : #check the size of set, if list has only one element, then no need for 2nd largest finding.\n",
        "  processed_list = list(set_s) #move the set to list so that can find value by index wise\n",
        "  processed_list.sort(reverse=True) #Arrange the list in Descending order\n",
        "  #get the second index of set and print\n",
        "  print(f\"Second Largest No.:'{processed_list[1]}', in the given list'{list_sec}'\")\n",
        "else:\n",
        "  print('List Length is lesser than 2')  #If length is less than 2, printing it."
      ],
      "metadata": {
        "colab": {
          "base_uri": "https://localhost:8080/"
        },
        "id": "HYrhVcOpwVkM",
        "outputId": "c56743fb-ec19-4430-8666-9a0cbe403e62"
      },
      "execution_count": null,
      "outputs": [
        {
          "output_type": "stream",
          "name": "stdout",
          "text": [
            "Second Largest No.:'8', in the given list'[2, 4, 8, 3, 1, 7, 9, 3, 9]'\n"
          ]
        }
      ]
    },
    {
      "cell_type": "code",
      "source": [
        "#36. Replace every element in a list with its square.\n",
        "list_rep =[1,2,3,4,5,6,7] #input list\n",
        "list_fin=[] #empty list to hold the calculated value as a list\n",
        "for i in list_rep: #iterate thro' input list\n",
        "  list_fin.append(i*i) #square of each element in the list\n",
        "print('Square list:',list_fin )"
      ],
      "metadata": {
        "colab": {
          "base_uri": "https://localhost:8080/"
        },
        "id": "QuA2fBc2_ZCa",
        "outputId": "20145669-278c-4f7a-dc88-5a3fb4aef1fc"
      },
      "execution_count": null,
      "outputs": [
        {
          "output_type": "stream",
          "name": "stdout",
          "text": [
            "Square list: [1, 4, 9, 16, 25, 36, 49]\n"
          ]
        }
      ]
    },
    {
      "cell_type": "code",
      "source": [
        "#37. Convert a list to a dictionary where list elements become keys and their indices become value\n",
        "my_list = ['Asia', 'Europe', 'Australia', 'Africa']\n",
        "# Convert list to dictionary using dictionary\n",
        "my_dict = {element: index for index, element in enumerate(my_list)}\n",
        "# Print the resulting dictionary\n",
        "print(\"Converted dictionary:\", my_dict)"
      ],
      "metadata": {
        "colab": {
          "base_uri": "https://localhost:8080/"
        },
        "id": "vdhplyqRAqPa",
        "outputId": "d0b81fb0-349d-477c-ba35-02803d7be5e7"
      },
      "execution_count": null,
      "outputs": [
        {
          "output_type": "stream",
          "name": "stdout",
          "text": [
            "Converted dictionary: {'Asia': 0, 'Europe': 1, 'Australia': 2, 'Africa': 3}\n"
          ]
        }
      ]
    },
    {
      "cell_type": "code",
      "source": [
        "#38. Shuffle the elements of a list randomly.\n",
        "import random\n",
        "# input list\n",
        "my_list = [1, 2, 3, 4, 5, 6, 7, 8, 9, 10]\n",
        "# Shuffle the list randomly\n",
        "random.shuffle(my_list)\n",
        "# Print the shuffled list\n",
        "print(\"Shuffled list:\", my_list)\n"
      ],
      "metadata": {
        "colab": {
          "base_uri": "https://localhost:8080/"
        },
        "id": "YDS_a7m-8hNB",
        "outputId": "33b76fea-5c7c-4cc1-b5c9-3c3adfb2e4aa"
      },
      "execution_count": null,
      "outputs": [
        {
          "output_type": "stream",
          "name": "stdout",
          "text": [
            "Shuffled list: [1, 6, 5, 8, 7, 9, 10, 2, 4, 3]\n"
          ]
        }
      ]
    },
    {
      "cell_type": "code",
      "source": [
        "#39. Create a list of the first 10 factorial numbers.\n",
        "def fact_no(input_no):\n",
        "  fact_val=1\n",
        "  while input_no > 1:\n",
        "    fact_val *=input_no\n",
        "    input_no -=1\n",
        "  return fact_val\n",
        "\n",
        "# Create a list of the first 10 factorial numbers\n",
        "list_factorial = [fact_no(i) for i in range(10)]\n",
        "\n",
        "# Print the list of first 10 factorial numbers\n",
        "print(\"List of the first 10 factorial numbers:\", list_factorial)\n"
      ],
      "metadata": {
        "colab": {
          "base_uri": "https://localhost:8080/"
        },
        "id": "LYlPuK6FGZoI",
        "outputId": "9608d546-c5c3-41e3-aadb-c07cea874d99"
      },
      "execution_count": null,
      "outputs": [
        {
          "output_type": "stream",
          "name": "stdout",
          "text": [
            "List of the first 10 factorial numbers: [1, 1, 2, 6, 24, 120, 720, 5040, 40320, 362880]\n"
          ]
        }
      ]
    },
    {
      "cell_type": "code",
      "source": [
        "#40. Check if two lists have at least one element in common.\n",
        "set_l1 = set([1, 2, 3, 4, 5]) #convert list to set\n",
        "set_l2 = set([4, 5, 6, 7, 8])  #convert list to set\n",
        "\n",
        "if (set_l1 & set_l1): #checks the common between two sets\n",
        "   print('Common elements', list(set_l1 & set_l2))  #convert the common of two sets to list again and print\n",
        "else:\n",
        "  print(\"No common elements\")\n"
      ],
      "metadata": {
        "colab": {
          "base_uri": "https://localhost:8080/"
        },
        "id": "PNWyqhrjGHGR",
        "outputId": "e52a21e3-ad20-4d20-bd3d-8a4565b250db"
      },
      "execution_count": null,
      "outputs": [
        {
          "output_type": "stream",
          "name": "stdout",
          "text": [
            "Common elements [4, 5]\n"
          ]
        }
      ]
    },
    {
      "cell_type": "code",
      "source": [
        "#41. Remove all elements from a list.\n",
        "list_elem = [1, 2, 3, 4, 5] #input list\n",
        "list_elem.clear() #remove all elements from the lists\n",
        "list_elem\n"
      ],
      "metadata": {
        "colab": {
          "base_uri": "https://localhost:8080/"
        },
        "id": "crkX7qhWHOnH",
        "outputId": "cc47153e-7e1b-457b-f6e4-23449fa55184"
      },
      "execution_count": null,
      "outputs": [
        {
          "output_type": "execute_result",
          "data": {
            "text/plain": [
              "[]"
            ]
          },
          "metadata": {},
          "execution_count": 87
        }
      ]
    },
    {
      "cell_type": "code",
      "source": [
        "#42. Replace negative numbers in a list with 0.\n",
        "list_elem = [1, -2, 10,3, -4, -5] #list\n",
        "for i in range(len(list_elem)): #iterate thro list to process\n",
        "    if list_elem[i] < 0: # check if the element is negative\n",
        "        list_elem[i] = 0 #if so, replace with 0\n",
        "\n",
        "print('Replaced Lists:',list_elem) #print replaced lists"
      ],
      "metadata": {
        "colab": {
          "base_uri": "https://localhost:8080/"
        },
        "id": "ui_vI5rJHp22",
        "outputId": "071787fa-0ecb-49ad-a46e-4bb048f55c46"
      },
      "execution_count": null,
      "outputs": [
        {
          "output_type": "stream",
          "name": "stdout",
          "text": [
            "Replaced Lists: [1, 0, 10, 3, 0, 0]\n"
          ]
        }
      ]
    },
    {
      "cell_type": "code",
      "source": [
        "#43. Convert a string into a list of words.\n",
        "string_var ='Aim for the highest' #input string\n",
        "list_elem = string_var.split() #split to make it as list of words\n",
        "print('Words List:',list_elem) #print the result"
      ],
      "metadata": {
        "colab": {
          "base_uri": "https://localhost:8080/"
        },
        "id": "s1rKj3OhNqD8",
        "outputId": "e5adddfa-412f-4c62-8d49-f82ecfd3b7f8"
      },
      "execution_count": null,
      "outputs": [
        {
          "output_type": "stream",
          "name": "stdout",
          "text": [
            "Words List: ['Aim', 'for', 'the', 'highest']\n"
          ]
        }
      ]
    },
    {
      "cell_type": "code",
      "source": [
        "#44. Convert a list of words into a string.\n",
        "words_list = ['Aim', 'for', 'the', 'highest'] #list to process\n",
        "words = ' '.join(words_list) #using join to combine the elements in lists\"\n",
        "words #print the result"
      ],
      "metadata": {
        "colab": {
          "base_uri": "https://localhost:8080/",
          "height": 35
        },
        "id": "Lc4OOag7OfLX",
        "outputId": "af60e6df-d281-4fc9-fdad-57274d99030a"
      },
      "execution_count": null,
      "outputs": [
        {
          "output_type": "execute_result",
          "data": {
            "text/plain": [
              "'Aim for the highest'"
            ],
            "application/vnd.google.colaboratory.intrinsic+json": {
              "type": "string"
            }
          },
          "metadata": {},
          "execution_count": 103
        }
      ]
    },
    {
      "cell_type": "code",
      "source": [
        "#45. Create a list of the first `n` powers of 2.\n",
        "n = 5\n",
        "power_list = [2 ** i for i in range(n)] # list of the first n powers of 2 using a loop\n",
        "print(\"List of the first\", n, \"powers of 2:\", power_list) # Print the list of powers of 2"
      ],
      "metadata": {
        "colab": {
          "base_uri": "https://localhost:8080/"
        },
        "id": "8OjiiZw7PC9I",
        "outputId": "736d270e-41e8-49c7-af07-766f9d439680"
      },
      "execution_count": null,
      "outputs": [
        {
          "output_type": "stream",
          "name": "stdout",
          "text": [
            "List of the first 5 powers of 2: [1, 2, 4, 8, 16]\n"
          ]
        }
      ]
    },
    {
      "cell_type": "code",
      "source": [
        "#46. Find the longest string in a list of strings.\n",
        "# Example list of strings\n",
        "string_list = [\"TamilNadu\", \"Telungana\", \"Delhi\", \"Mumbai\", \"Kerala\"]\n",
        "\n",
        "# Find the longest string in the list\n",
        "longest_string = \"\"\n",
        "for s in string_list:\n",
        "    if len(s) > len(longest_string):\n",
        "        longest_string = s\n",
        "\n",
        "# Print the longest string\n",
        "print(\"Longest string:\", longest_string)"
      ],
      "metadata": {
        "colab": {
          "base_uri": "https://localhost:8080/"
        },
        "id": "dZlb1sCpPiKe",
        "outputId": "ef4dc3f6-7759-492b-cff3-b105789901a5"
      },
      "execution_count": null,
      "outputs": [
        {
          "output_type": "stream",
          "name": "stdout",
          "text": [
            "Longest string: TamilNadu\n"
          ]
        }
      ]
    },
    {
      "cell_type": "code",
      "source": [
        "#47.Find the shortest string in a list of strings.\n",
        "# Example list of strings\n",
        "string_list = [\"TamilNadu\", \"Telungana\", \"Delhi\", \"Mumbai\", \"Kerala\"]\n",
        "\n",
        "# Find the longest string in the list\n",
        "shortest_string = string_list[0]\n",
        "for s in string_list:\n",
        "    if len(s) < len(shortest_string):\n",
        "        shortest_string = s\n",
        "\n",
        "# Print the shortest string\n",
        "print(\"Shortest string:\", shortest_string)"
      ],
      "metadata": {
        "colab": {
          "base_uri": "https://localhost:8080/"
        },
        "id": "J3p_B5C0QMgX",
        "outputId": "1fe40eec-eaa8-467b-e6ac-a551c8f75291"
      },
      "execution_count": null,
      "outputs": [
        {
          "output_type": "stream",
          "name": "stdout",
          "text": [
            "Shortest string: Delhi\n"
          ]
        }
      ]
    },
    {
      "cell_type": "code",
      "source": [
        "#48. Create a list of the first `n` triangular numbers.\n",
        "n = 8\n",
        "tring_list = [i * (i + 1) // 2 for i in range(1, n + 1)] #obtained by continued summation of the natural numbers 1, 2, 3, 4, 5, etc.\n",
        "tring_list"
      ],
      "metadata": {
        "colab": {
          "base_uri": "https://localhost:8080/"
        },
        "id": "923s8WKzQl_z",
        "outputId": "0c08de39-158d-4cda-d5a5-a133f95dad33"
      },
      "execution_count": null,
      "outputs": [
        {
          "output_type": "execute_result",
          "data": {
            "text/plain": [
              "[1, 3, 6, 10, 15, 21, 28, 36]"
            ]
          },
          "metadata": {},
          "execution_count": 112
        }
      ]
    },
    {
      "cell_type": "code",
      "source": [
        "#49. Check if a list contains another list as a subsequence.\n",
        "main_list =[1,2,3,4,6,7,8,9] #main list\n",
        "sub_list =[1,2,3] #subsequence list\n",
        "set_l = set(main_list) #convert list to set\n",
        "set_b = set(sub_list) #convert list to set\n",
        "if(set_l & set_b): #find is there any common between two sets\n",
        "  if (set_l & set_b) == set_b: #if common, then this common is equal to subsequent\n",
        "    print('List contains subsequence')\n",
        "  else:\n",
        "    print('List does not contains subsequence')\n",
        "else:\n",
        "  print('List does not contains subsequence')"
      ],
      "metadata": {
        "colab": {
          "base_uri": "https://localhost:8080/"
        },
        "id": "hgRKGp0kUqO6",
        "outputId": "f10e4aa9-70bc-4243-8d42-33e7fcf2efaf"
      },
      "execution_count": null,
      "outputs": [
        {
          "output_type": "stream",
          "name": "stdout",
          "text": [
            "List contains subsequence\n"
          ]
        }
      ]
    },
    {
      "cell_type": "code",
      "source": [
        "#50. Swap two elements in a list by their indices.\n",
        "# Example list\n",
        "my_list = [1, 2, 3, 4, 5]\n",
        "\n",
        "index1 = 1\n",
        "index2 = 3\n",
        "\n",
        "# Swap the elements at the specified indices\n",
        "temp = my_list[index1]\n",
        "my_list[index1] = my_list[index2]\n",
        "my_list[index2] = temp\n",
        "\n",
        "# Print the list after swapping\n",
        "print(\"List after swapping elements:\", my_list)\n"
      ],
      "metadata": {
        "colab": {
          "base_uri": "https://localhost:8080/"
        },
        "id": "NOE-UJLSUr0h",
        "outputId": "8f1f0e6c-6002-4237-e9ac-a5f4194e0e05"
      },
      "execution_count": null,
      "outputs": [
        {
          "output_type": "stream",
          "name": "stdout",
          "text": [
            "List after swapping elements: [1, 4, 3, 2, 5]\n"
          ]
        }
      ]
    },
    {
      "cell_type": "code",
      "source": [
        "#Tuple Based Practice Problem :\n",
        "#1. Create a tuple with integers from 1 to 5.\n",
        "tup_int = (1,2,3,4,5)\n",
        "tup_int #print"
      ],
      "metadata": {
        "colab": {
          "base_uri": "https://localhost:8080/"
        },
        "id": "LHvUrd8XVFEX",
        "outputId": "d6d5df4f-1bea-4d20-9561-a563b2f1c0e9"
      },
      "execution_count": null,
      "outputs": [
        {
          "output_type": "execute_result",
          "data": {
            "text/plain": [
              "(1, 2, 3, 4, 5)"
            ]
          },
          "metadata": {},
          "execution_count": 125
        }
      ]
    },
    {
      "cell_type": "code",
      "source": [
        "#2. Access the third element of a tuple.\n",
        "tup_int = (1,2,3,4,5)\n",
        "print('3rd element:',tup_int[2]) #print the third element"
      ],
      "metadata": {
        "colab": {
          "base_uri": "https://localhost:8080/"
        },
        "id": "kOfuStONV1kp",
        "outputId": "3d37e5e6-fa66-4184-f403-97320b7cc274"
      },
      "execution_count": null,
      "outputs": [
        {
          "output_type": "stream",
          "name": "stdout",
          "text": [
            "3rd element: 3\n"
          ]
        }
      ]
    },
    {
      "cell_type": "code",
      "source": [
        "#3. Find the length of a tuple without using the `len()` function.\n",
        "tup_int = (1,2,3,4,5)\n",
        "k=0\n",
        "\n",
        "for _ in tup_int: #iterate thro tuple\n",
        "  k =k+1\n",
        "print('Length of Tuple:',k) #length of tuple without using len()\n"
      ],
      "metadata": {
        "colab": {
          "base_uri": "https://localhost:8080/"
        },
        "id": "UkPM0U48WDlp",
        "outputId": "c36f8b27-c304-4130-d9c4-04f222416b01"
      },
      "execution_count": null,
      "outputs": [
        {
          "output_type": "stream",
          "name": "stdout",
          "text": [
            "Length of Tuple: 5\n"
          ]
        }
      ]
    },
    {
      "cell_type": "code",
      "source": [
        "#4. Count the occurrences of an element in a tuple.\n",
        "my_tuple = (10, 20, 30, 20, 40, 50, 20)\n",
        "element = 50 #element to count occurrences of\n",
        "count = 0\n",
        "\n",
        "for item in my_tuple: #Iterate through the tuple and count occurrences of the element\n",
        "    if item == element:\n",
        "        count += 1\n",
        "\n",
        "# Step 5: Print the count of occurrences\n",
        "print(f\"The element {element} appears {count} times in the tuple.\")"
      ],
      "metadata": {
        "colab": {
          "base_uri": "https://localhost:8080/"
        },
        "id": "bOsrLbxfXCgN",
        "outputId": "eebf41c5-c3f5-4295-f2ce-f1721c6f6e4e"
      },
      "execution_count": null,
      "outputs": [
        {
          "output_type": "stream",
          "name": "stdout",
          "text": [
            "The element 50 appears 1 times in the tuple.\n"
          ]
        }
      ]
    },
    {
      "cell_type": "code",
      "source": [
        "#5. Find the index of the first occurrence of an element in a tuple.\n",
        "tuple_inp = (10, 20, 30, 20, 40, 50)\n",
        "element_to_find = 20\n",
        "index = -1  # Initialize with -1 to indicate that the element was not found\n",
        "\n",
        "for i, item in enumerate(tuple_inp): #Iterate through the tuple and find the index of the chosen element\n",
        "    if item == element_to_find:\n",
        "        index = i\n",
        "        break  # Exit the loop once the first occurrence is found\n",
        "\n",
        "if index != -1:\n",
        "    print(f\"The first occurrence of {element_to_find} is at index {index}.\")  #Print the index of the first occurrence\n",
        "else:\n",
        "    print(f\"{element_to_find} is not found in the tuple.\")"
      ],
      "metadata": {
        "colab": {
          "base_uri": "https://localhost:8080/"
        },
        "id": "av3T2b5tXmAZ",
        "outputId": "a8a9e805-6bca-4ae4-cbf7-d844f4655c0d"
      },
      "execution_count": null,
      "outputs": [
        {
          "output_type": "stream",
          "name": "stdout",
          "text": [
            "The first occurrence of 20 is at index 1.\n"
          ]
        }
      ]
    },
    {
      "cell_type": "code",
      "source": [
        "# 6. Check if an element exists in a tuple.\n",
        "my_tuple = (10, 20, 30, 40, 50)\n",
        "\n",
        "#Choose the element to check for existence\n",
        "element_to_check = 30\n",
        "\n",
        "# Step 3: Check if the element exists in the tuple using the 'in' operator\n",
        "if element_to_check in my_tuple:\n",
        "    print(f\"{element_to_check} exists in the tuple.\")\n",
        "else:\n",
        "    print(f\"{element_to_check} does not exist in the tuple.\")"
      ],
      "metadata": {
        "colab": {
          "base_uri": "https://localhost:8080/"
        },
        "id": "N0W8SxkVSRwA",
        "outputId": "26ca6639-f5d7-4ebb-e95e-8ad8ba85920b"
      },
      "execution_count": null,
      "outputs": [
        {
          "output_type": "stream",
          "name": "stdout",
          "text": [
            "30 exists in the tuple.\n"
          ]
        }
      ]
    },
    {
      "cell_type": "code",
      "source": [
        "#7. Convert a tuple to a list.\n",
        "tuple_inp = (1,2,3,4,5) #tuple input\n",
        "list_out =list(tuple_inp)#convert to list\n",
        "print('Converted List:',list_out) #print list\n"
      ],
      "metadata": {
        "colab": {
          "base_uri": "https://localhost:8080/"
        },
        "id": "N3PKFR5RSeQK",
        "outputId": "75a182b3-89e9-4b0f-cbb7-eb263e630bc5"
      },
      "execution_count": null,
      "outputs": [
        {
          "output_type": "stream",
          "name": "stdout",
          "text": [
            "Converted List: [1, 2, 3, 4, 5]\n"
          ]
        }
      ]
    },
    {
      "cell_type": "code",
      "source": [
        "#8. Convert a list to a tuple\n",
        "list_inp = [1, 2, 3, 4, 5] #input list\n",
        "conv_tuple = tuple(list_inp)#convert to tuple\n",
        "type(conv_tuple)\n",
        "print(f\"Converted Tuple:'{list_out}'\\nType:'{type(conv_tuple)}'\") #print tuple"
      ],
      "metadata": {
        "colab": {
          "base_uri": "https://localhost:8080/"
        },
        "id": "tGWYCKMmTuW7",
        "outputId": "3a7ce68d-464a-423d-bbc8-8799aa26798f"
      },
      "execution_count": null,
      "outputs": [
        {
          "output_type": "stream",
          "name": "stdout",
          "text": [
            "Converted Tuple:'[1, 2, 3, 4, 5]'\n",
            "Type:'<class 'tuple'>'\n"
          ]
        }
      ]
    },
    {
      "cell_type": "code",
      "source": [
        "#9. Unpack the elements of a tuple into variables.\n",
        "tuple_inp = (1,2,5) #tuple input\n",
        "var1,var2,var3 = tuple_inp #assigning Tuple to Variables\n",
        "print(var1,var2,var3) #print the  variable"
      ],
      "metadata": {
        "colab": {
          "base_uri": "https://localhost:8080/"
        },
        "id": "nJtse_6yU4Lw",
        "outputId": "06d17eb0-9260-471c-a3f9-922b2345b8b9"
      },
      "execution_count": null,
      "outputs": [
        {
          "output_type": "stream",
          "name": "stdout",
          "text": [
            "1 2 5\n"
          ]
        }
      ]
    },
    {
      "cell_type": "code",
      "source": [
        "#10. Create a tuple of even numbers from 1 to 10.\n",
        "even_list = [x for x in range(2, 11, 2)]  # Start from 2, step by 2, end at 10\n",
        "even_tuple = tuple(even_list) #converting list to tuple\n",
        "print('Even no tuple',even_tuple)#print output"
      ],
      "metadata": {
        "colab": {
          "base_uri": "https://localhost:8080/"
        },
        "id": "TMWmCRixi4yb",
        "outputId": "956e4f0e-a489-409a-b159-1ba8b01d039f"
      },
      "execution_count": null,
      "outputs": [
        {
          "output_type": "stream",
          "name": "stdout",
          "text": [
            "Even no tuple (2, 4, 6, 8, 10)\n"
          ]
        }
      ]
    },
    {
      "cell_type": "code",
      "source": [
        "#11. Create a tuple of odd numbers from 1 to 10.\n",
        "odd_list = [x for x in range(1, 11, 2)]  # Start from 1, step by 2, end at 10\n",
        "odd_tuple = tuple(odd_list) #converting list to tuple\n",
        "print('Even no tuple',odd_tuple)#print output"
      ],
      "metadata": {
        "colab": {
          "base_uri": "https://localhost:8080/"
        },
        "id": "ZbPdRnJjjdo7",
        "outputId": "8b064d6f-c41a-49d2-8c17-1ef088437f40"
      },
      "execution_count": null,
      "outputs": [
        {
          "output_type": "stream",
          "name": "stdout",
          "text": [
            "Even no tuple (1, 3, 5, 7, 9)\n"
          ]
        }
      ]
    },
    {
      "cell_type": "code",
      "source": [
        "#12. Concatenate two tuples.\n",
        "tuple1 = (1,2,3) #tuple1 input\n",
        "tuple2 = (11,12,13) #tuple2 input\n",
        "tuple_out = tuple1 +tuple2 #concatenate two tuples\n",
        "print(tuple_out) #print the output\n"
      ],
      "metadata": {
        "colab": {
          "base_uri": "https://localhost:8080/"
        },
        "id": "0HaHsizajqgc",
        "outputId": "ab072a93-59d9-4ef3-f249-2cf98b7fd5c6"
      },
      "execution_count": null,
      "outputs": [
        {
          "output_type": "stream",
          "name": "stdout",
          "text": [
            "(1, 2, 3, 11, 12, 13)\n"
          ]
        }
      ]
    },
    {
      "cell_type": "code",
      "source": [
        "#13. Repeat a tuple three times.\n",
        "tuple1 = (1,2,3) #tuple1 input\n",
        "print(3*tuple1) #repeat three times"
      ],
      "metadata": {
        "colab": {
          "base_uri": "https://localhost:8080/"
        },
        "id": "ln1Ozw1MkDFn",
        "outputId": "46960b5b-5f26-49e3-9eda-7d06e76a430a"
      },
      "execution_count": null,
      "outputs": [
        {
          "output_type": "stream",
          "name": "stdout",
          "text": [
            "(1, 2, 3, 1, 2, 3, 1, 2, 3)\n"
          ]
        }
      ]
    },
    {
      "cell_type": "code",
      "source": [
        "#14. Check if a tuple is empty.\n",
        "tuple1 = (1,2,3) #tuple1 input\n",
        "if not tuple1 :\n",
        "  print('Tuple is empty')\n",
        "else:\n",
        "  print('Tuple is not empty')"
      ],
      "metadata": {
        "colab": {
          "base_uri": "https://localhost:8080/"
        },
        "id": "dH3rk3GnkXjk",
        "outputId": "442cc89c-274d-4754-85e8-db1c4a5879ad"
      },
      "execution_count": null,
      "outputs": [
        {
          "output_type": "stream",
          "name": "stdout",
          "text": [
            "Tuple is not empty\n"
          ]
        }
      ]
    },
    {
      "cell_type": "code",
      "source": [
        "#15. Create a nested tuple.\n",
        "nest_tuple = ((1,2,3),('Welcome','Back')) #nested tuple\n",
        "print(nest_tuple) #print tuple"
      ],
      "metadata": {
        "colab": {
          "base_uri": "https://localhost:8080/"
        },
        "id": "sXly5nGwlGdv",
        "outputId": "d8dec548-e50d-45ce-e64a-5fb0152d65ed"
      },
      "execution_count": null,
      "outputs": [
        {
          "output_type": "stream",
          "name": "stdout",
          "text": [
            "((1, 2, 3), ('Welcome', 'Back'))\n"
          ]
        }
      ]
    },
    {
      "cell_type": "code",
      "source": [
        "#16. Access the first element of a nested tuple.\n",
        "nest_tuple = ((1,2,3),('Welcome','Back')) #nested tuple\n",
        "print(nest_tuple[0]) #print first element of the tuple"
      ],
      "metadata": {
        "colab": {
          "base_uri": "https://localhost:8080/"
        },
        "id": "IUrID__TlsQB",
        "outputId": "76a2dfb8-f472-40e2-a572-4fa25580c22c"
      },
      "execution_count": null,
      "outputs": [
        {
          "output_type": "stream",
          "name": "stdout",
          "text": [
            "(1, 2, 3)\n"
          ]
        }
      ]
    },
    {
      "cell_type": "code",
      "source": [
        "#17. Create a tuple with a single element.\n",
        "tuple_inp=(1,)\n",
        "print(tuple_inp[0]) #print the tuple"
      ],
      "metadata": {
        "colab": {
          "base_uri": "https://localhost:8080/"
        },
        "id": "NCGfvIeZl5Ka",
        "outputId": "f38edb0e-7400-4dda-c9cf-ef23219024c8"
      },
      "execution_count": null,
      "outputs": [
        {
          "output_type": "stream",
          "name": "stdout",
          "text": [
            "1\n"
          ]
        }
      ]
    },
    {
      "cell_type": "code",
      "source": [
        "#18. Compare two tuples.\n",
        "tuple1 = (1,2,3) #tuple1 input\n",
        "tuple2 = (11,12,13) #tuple2 input\n",
        "if (tuple1 == tuple2): #compare two tuples\n",
        "  print(f\"'{tuple1}' and '{tuple2}' are same\") #print the result\n",
        "else:\n",
        "  print(f\"'{tuple1}' and '{tuple2}' are not same\")"
      ],
      "metadata": {
        "colab": {
          "base_uri": "https://localhost:8080/"
        },
        "id": "9Uwk_GAKmTT-",
        "outputId": "d7c43c2f-a1de-4a25-aecd-6728c8936708"
      },
      "execution_count": null,
      "outputs": [
        {
          "output_type": "stream",
          "name": "stdout",
          "text": [
            "'(1, 2, 3)' and '(11, 12, 13)' are not same\n"
          ]
        }
      ]
    },
    {
      "cell_type": "code",
      "source": [
        "#19. Delete a tuple.\n",
        "tuple1 = (1,2,3) #tuple1 input\n",
        "tuple1\n",
        "del tuple1 #deleting tuple\n",
        "tuple1 #after deletion, its not available, so showing error"
      ],
      "metadata": {
        "colab": {
          "base_uri": "https://localhost:8080/",
          "height": 210
        },
        "id": "S14kWxFknFoB",
        "outputId": "39fdfb4b-3b02-4502-f7ff-d040cbbf1ba2"
      },
      "execution_count": null,
      "outputs": [
        {
          "output_type": "error",
          "ename": "NameError",
          "evalue": "ignored",
          "traceback": [
            "\u001b[0;31m---------------------------------------------------------------------------\u001b[0m",
            "\u001b[0;31mNameError\u001b[0m                                 Traceback (most recent call last)",
            "\u001b[0;32m<ipython-input-31-ee3450f4e95a>\u001b[0m in \u001b[0;36m<cell line: 5>\u001b[0;34m()\u001b[0m\n\u001b[1;32m      3\u001b[0m \u001b[0mtuple1\u001b[0m\u001b[0;34m\u001b[0m\u001b[0;34m\u001b[0m\u001b[0m\n\u001b[1;32m      4\u001b[0m \u001b[0;32mdel\u001b[0m \u001b[0mtuple1\u001b[0m\u001b[0;34m\u001b[0m\u001b[0;34m\u001b[0m\u001b[0m\n\u001b[0;32m----> 5\u001b[0;31m \u001b[0mtuple1\u001b[0m\u001b[0;34m\u001b[0m\u001b[0;34m\u001b[0m\u001b[0m\n\u001b[0m",
            "\u001b[0;31mNameError\u001b[0m: name 'tuple1' is not defined"
          ]
        }
      ]
    },
    {
      "cell_type": "code",
      "source": [
        "#20. Slice a tuple.\n",
        "tuple1 = (1,3,6,7,8,10,4,5) #input tuple\n",
        "sliced_tuple = tuple1[2:6] #sliced the tuple\n",
        "print('Sliced Tuple:',sliced_tuple)#print the result"
      ],
      "metadata": {
        "colab": {
          "base_uri": "https://localhost:8080/"
        },
        "id": "TBTKWCyWnhxq",
        "outputId": "6b753b2f-65ed-4374-bb6a-b302a30466f3"
      },
      "execution_count": null,
      "outputs": [
        {
          "output_type": "stream",
          "name": "stdout",
          "text": [
            "Sliced Tuple: (6, 7, 8, 10)\n"
          ]
        }
      ]
    },
    {
      "cell_type": "code",
      "source": [
        "#21. Find the maximum value in a tuple.\n",
        "tuple1 = (1,3,6,7,8,10,4,5) #input tuple\n",
        "max_value = max(tuple1) #maximum of the tuple\n",
        "print(f\"Maximum of '{tuple1}' is '{max_value}'\") #print the result"
      ],
      "metadata": {
        "colab": {
          "base_uri": "https://localhost:8080/"
        },
        "id": "MTTfEmsmoJzA",
        "outputId": "d3faa0cc-50f5-415b-c061-9d2b257493ed"
      },
      "execution_count": null,
      "outputs": [
        {
          "output_type": "stream",
          "name": "stdout",
          "text": [
            "Maximum of '(1, 3, 6, 7, 8, 10, 4, 5)' is '10'\n"
          ]
        }
      ]
    },
    {
      "cell_type": "code",
      "source": [
        "#22. Find the minimum value in a tuple.\n",
        "tuple1 = (1,3,6,7,8,10,4,5) #input tuple\n",
        "min_value = min(tuple1) #minimum of the tuple\n",
        "print(f\"Minimum of '{tuple1}' is '{min_value}'\") #print the result"
      ],
      "metadata": {
        "colab": {
          "base_uri": "https://localhost:8080/"
        },
        "id": "PIylfdglovS2",
        "outputId": "aec21092-f97e-4804-b616-fddaa9289c62"
      },
      "execution_count": null,
      "outputs": [
        {
          "output_type": "stream",
          "name": "stdout",
          "text": [
            "Minimum of '(1, 3, 6, 7, 8, 10, 4, 5)' is '1'\n"
          ]
        }
      ]
    },
    {
      "cell_type": "code",
      "source": [
        "#23. Convert a string to a tuple of characters.\n",
        "inp_string ='Datascientist' #input string\n",
        "final_tuple = tuple(inp_string) #Converting to tuple\n",
        "print('Tuple:',final_tuple) #print the tuple"
      ],
      "metadata": {
        "colab": {
          "base_uri": "https://localhost:8080/"
        },
        "id": "tFrWeXmVpVIB",
        "outputId": "08cf4604-bce7-4671-ad84-7b082a1fa2b1"
      },
      "execution_count": null,
      "outputs": [
        {
          "output_type": "stream",
          "name": "stdout",
          "text": [
            "Tuple: ('D', 'a', 't', 'a', 's', 'c', 'i', 'e', 'n', 't', 'i', 's', 't')\n"
          ]
        }
      ]
    },
    {
      "cell_type": "code",
      "source": [
        "#24. Convert a tuple of characters to a string.\n",
        "inp_tuple= ('D', 'a', 't', 'a', 's', 'c', 'i', 'e', 'n', 't', 'i', 's', 't') #input tuple\n",
        "inpu_str = ''.join(inp_tuple) #convert to string\n",
        "print(inpu_str) #print the string"
      ],
      "metadata": {
        "colab": {
          "base_uri": "https://localhost:8080/"
        },
        "id": "A3dL8iakpbda",
        "outputId": "3f24a4ce-7694-4a30-812c-1b75fd5ef775"
      },
      "execution_count": null,
      "outputs": [
        {
          "output_type": "stream",
          "name": "stdout",
          "text": [
            "Datascientist\n"
          ]
        }
      ]
    },
    {
      "cell_type": "code",
      "source": [
        "#25. Create a tuple from multiple data types.\n",
        "inp_tuple = (1,2,'3','welcome','w','e',True) #create a multiple data types tuple\n",
        "print(inp_tuple) #print the result"
      ],
      "metadata": {
        "colab": {
          "base_uri": "https://localhost:8080/"
        },
        "id": "hMHucrwXp-7u",
        "outputId": "517eba61-0aae-492a-b3e6-bd188615a253"
      },
      "execution_count": null,
      "outputs": [
        {
          "output_type": "stream",
          "name": "stdout",
          "text": [
            "(1, 2, '3', 'welcome', 'w', 'e', True)\n"
          ]
        }
      ]
    },
    {
      "cell_type": "code",
      "source": [
        "#26. Check if two tuples are identical.\n",
        "tuple1 = (1,2,3) #tuple1 input\n",
        "tuple2 = (11,12,13) #tuple2 input\n",
        "if tuple1 == tuple2: #check two tuples are same or not\n",
        "  print(f\"Tuples '{tuple1}' and '{tuple2}' are identical\")\n",
        "else:\n",
        "  print(f\"Tuples '{tuple1}' and '{tuple2}' are non-identical\")"
      ],
      "metadata": {
        "colab": {
          "base_uri": "https://localhost:8080/"
        },
        "id": "5Nrn0HJBqkRj",
        "outputId": "30896768-7d48-4507-da1b-d3ca767c1258"
      },
      "execution_count": null,
      "outputs": [
        {
          "output_type": "stream",
          "name": "stdout",
          "text": [
            "Tuples '(1, 2, 3)' and '(11, 12, 13)' are non-identical\n"
          ]
        }
      ]
    },
    {
      "cell_type": "code",
      "source": [
        "#27. Sort the elements of a tuple.\n",
        "tuple2 = (22,18,11,12,13) #tuple2 input\n",
        "sort_tuple = tuple(sorted(tuple2)) #sort tuple\n",
        "print('Sorted Tuple:',sort_tuple) #print the result"
      ],
      "metadata": {
        "colab": {
          "base_uri": "https://localhost:8080/"
        },
        "id": "tXU8XokcrLDj",
        "outputId": "faf830e0-480f-4c00-982c-99bf37e68f76"
      },
      "execution_count": null,
      "outputs": [
        {
          "output_type": "stream",
          "name": "stdout",
          "text": [
            "Sorted Tuple: (11, 12, 13, 18, 22)\n"
          ]
        }
      ]
    },
    {
      "cell_type": "code",
      "source": [
        "#28. Convert a tuple of integers to a tuple of strings.\n",
        "tuple1 = (11, 12, 13, 18, 22) #tuple1 input\n",
        "tuple_str = tuple(str(x) for x in tuple1) #convert to string and save in a tuple\n",
        "print('Tuple of strings:',tuple_str)#print the result"
      ],
      "metadata": {
        "colab": {
          "base_uri": "https://localhost:8080/"
        },
        "id": "E_8PzuqKsW-c",
        "outputId": "3e3ac97b-bf0b-4697-dc46-3c41e60eb515"
      },
      "execution_count": null,
      "outputs": [
        {
          "output_type": "stream",
          "name": "stdout",
          "text": [
            "Tuple of strings: ('11', '12', '13', '18', '22')\n"
          ]
        }
      ]
    },
    {
      "cell_type": "code",
      "source": [
        "#29. Convert a tuple of strings to a tuple of integers.\n",
        "tuple1 = ('11', '12', '13', '18', '22') #tuple1 input\n",
        "tuple_int = tuple(int(x) for x in tuple1) #convert to int and save in a tuple\n",
        "print('Tuple of Integers:',tuple_int)#print the result\n"
      ],
      "metadata": {
        "colab": {
          "base_uri": "https://localhost:8080/"
        },
        "id": "W5FXSMfFtpzS",
        "outputId": "7e6cca27-c940-41f4-864d-1e845725c52e"
      },
      "execution_count": null,
      "outputs": [
        {
          "output_type": "stream",
          "name": "stdout",
          "text": [
            "Tuple of Integers: (11, 12, 13, 18, 22)\n"
          ]
        }
      ]
    },
    {
      "cell_type": "code",
      "source": [
        "#30. Merge two tuples.\n",
        "tuple1 = (1,2,3) #tuple1 input\n",
        "tuple2 = (100,102,103) #tuple2 input\n",
        "tuple_out = tuple1 +tuple2 #concatenate two tuples\n",
        "print('Merged tuples',tuple_out) #print the output"
      ],
      "metadata": {
        "colab": {
          "base_uri": "https://localhost:8080/"
        },
        "id": "caCE5q4OufqN",
        "outputId": "c0226d5b-ecc7-4300-c5ce-53ef8413e1d6"
      },
      "execution_count": null,
      "outputs": [
        {
          "output_type": "stream",
          "name": "stdout",
          "text": [
            "Merged tuples (1, 2, 3, 100, 102, 103)\n"
          ]
        }
      ]
    },
    {
      "cell_type": "code",
      "source": [
        "#31 Flatten a nested tuple\n",
        "def flatten_tuple(nested_tuple): #function\n",
        "    flattened = []\n",
        "    for item in nested_tuple: #iterate thro the tuple\n",
        "        if isinstance(item, tuple): #if its nested or not\n",
        "            flattened.extend(flatten_tuple(item))\n",
        "        else:\n",
        "            flattened.append(item)\n",
        "    return flattened\n",
        "\n",
        "nested_tuple = ((1, 2), (3, 4, 5), (6, (7, 8))) #input tuple\n",
        "\n",
        "flatten_tup = tuple(flatten_tuple(nested_tuple)) #call the function\n",
        "\n",
        "print(\"Flattened tuple:\", flatten_tup) #print the result"
      ],
      "metadata": {
        "colab": {
          "base_uri": "https://localhost:8080/"
        },
        "id": "i2kny9LHu5pA",
        "outputId": "f5f0af77-e164-4b30-8e5a-81fd356de744"
      },
      "execution_count": null,
      "outputs": [
        {
          "output_type": "stream",
          "name": "stdout",
          "text": [
            "Flattened tuple: (1, 2, 3, 4, 5, 6, 7, 8)\n"
          ]
        }
      ]
    },
    {
      "cell_type": "code",
      "source": [
        "#32. Create a tuple of the first 5 prime numbers.\n",
        "def is_prime(num):\n",
        "    if num <= 1:\n",
        "        return False\n",
        "    for i in range(2, int(num ** 0.5) + 1):\n",
        "        if num % i == 0:\n",
        "            return False\n",
        "    return True\n",
        "\n",
        "# Generate the first 5 prime numbers\n",
        "prime_list = [num for num in range(2, 100) if is_prime(num)][:5]\n",
        "\n",
        "# Convert the list to a tuple\n",
        "prime_tuple = tuple(prime_list)\n",
        "\n",
        "# Print the tuple of prime numbers\n",
        "print(\"Tuple of the first 5 prime numbers:\", prime_tuple)"
      ],
      "metadata": {
        "colab": {
          "base_uri": "https://localhost:8080/"
        },
        "id": "v4ujnkdDvnhp",
        "outputId": "befe478e-d624-4ee7-a62f-f8f63393e422"
      },
      "execution_count": null,
      "outputs": [
        {
          "output_type": "stream",
          "name": "stdout",
          "text": [
            "Tuple of the first 5 prime numbers: (2, 3, 5, 7, 11)\n"
          ]
        }
      ]
    },
    {
      "cell_type": "code",
      "source": [
        "#33. Check if a tuple is a palindrome.\n",
        "tuple1 =(1,2,1) #input tuple1\n",
        "rev_tuple = tuple1[::-1]\n",
        "if tuple1 == rev_tuple:\n",
        "  print(f\"'{tuple1}' is a Palindrome\")\n",
        "else:\n",
        "  print(f\"'{tuple1}' is not a Palindrome\")\n"
      ],
      "metadata": {
        "colab": {
          "base_uri": "https://localhost:8080/"
        },
        "id": "nhoYY-rmxSXg",
        "outputId": "bfa29328-c77f-45a3-c803-7a119c783bb7"
      },
      "execution_count": null,
      "outputs": [
        {
          "output_type": "stream",
          "name": "stdout",
          "text": [
            "'(1, 2, 1)' is a Palindrome\n"
          ]
        }
      ]
    },
    {
      "cell_type": "code",
      "source": [
        "#34. Create a tuple of squares of numbers from 1 to 5.\n",
        "sqr_tuple =tuple(x*x for x in range(1, 6)) #squre of no. from 1 to 5\n",
        "print('Square Tuples:',sqr_tuple) #print the tuple"
      ],
      "metadata": {
        "colab": {
          "base_uri": "https://localhost:8080/"
        },
        "id": "AVWPw7XdzRIm",
        "outputId": "c8cc2f72-ae91-4996-eb99-c70e46845ca4"
      },
      "execution_count": null,
      "outputs": [
        {
          "output_type": "stream",
          "name": "stdout",
          "text": [
            "Square Tuples: (1, 4, 9, 16, 25)\n"
          ]
        }
      ]
    },
    {
      "cell_type": "code",
      "source": [
        "#35. Filter out all even numbers from a tuple.\n",
        "tuple_inp = (1,2,5,7,8,10) #input tuple\n",
        "tuple_even = tuple(num for num in tuple_inp if num % 2 == 0) #check if its even no and save in tuple\n",
        "print('Even Tuple:',tuple_even)#print the result"
      ],
      "metadata": {
        "colab": {
          "base_uri": "https://localhost:8080/"
        },
        "id": "NUk-c2JK0Y7k",
        "outputId": "63fd24a5-0a74-42b9-ff70-e1da50fcf1dc"
      },
      "execution_count": null,
      "outputs": [
        {
          "output_type": "stream",
          "name": "stdout",
          "text": [
            "Even Tuple: (2, 8, 10)\n"
          ]
        }
      ]
    },
    {
      "cell_type": "code",
      "source": [
        "#36. Multiply all elements in a tuple by 2.\n",
        "tuple_inp = (1,2,5,7,8,10) #input tuple\n",
        "tuple_2mult = tuple(i*2 for i in tuple_inp) #multiply by two\n",
        "print('Even Tuple:',tuple_2mult)#print the result"
      ],
      "metadata": {
        "colab": {
          "base_uri": "https://localhost:8080/"
        },
        "id": "ciDn2Jpu1jmZ",
        "outputId": "f700eddb-23cc-4bc1-e520-21ffd01f4a71"
      },
      "execution_count": null,
      "outputs": [
        {
          "output_type": "stream",
          "name": "stdout",
          "text": [
            "Even Tuple: (2, 4, 10, 14, 16, 20)\n"
          ]
        }
      ]
    },
    {
      "cell_type": "code",
      "source": [
        "#37. Create a tuple of random numbers.\n",
        "import random #import module\n",
        "rnd_tuple = tuple(random.randint(1, 100) for _ in range(5))  # Generating 10 random numbers between 1 and 100\n",
        "print('Random Tuple',rnd_tuple)"
      ],
      "metadata": {
        "colab": {
          "base_uri": "https://localhost:8080/"
        },
        "id": "QuPfMlhv3fa3",
        "outputId": "a831e18e-9591-42f4-cdee-3f0eb37f6775"
      },
      "execution_count": null,
      "outputs": [
        {
          "output_type": "stream",
          "name": "stdout",
          "text": [
            "Random Tuple (68, 5, 5, 25, 22)\n"
          ]
        }
      ]
    },
    {
      "cell_type": "code",
      "source": [
        "#38. Check if a tuple is sorted.\n",
        "def check_sorttup(tuple_inp): #create a function\n",
        "  for x in range(len(tuple_inp)-1): #iterate through the tuple\n",
        "    if tuple_inp[x] > tuple_inp [x+1]: #check two numbers, predecessor is greater than successor\n",
        "      return print('Tuple is not sorted') #if predecessor is greater than successor, then it is not sorted\n",
        "  return print('Tuple is sorted') # In For loop, the if condition doesn't meet, then it should be a sorted tupler\n",
        "\n",
        "tuple_inp = (1,2,5,3,7,8,10) #input tuple\n",
        "check_sorttup(tuple_inp)#call the function"
      ],
      "metadata": {
        "colab": {
          "base_uri": "https://localhost:8080/"
        },
        "id": "tYLCNcqaKi_T",
        "outputId": "3cb14f02-8078-413a-c32c-0f53a8bd3a67"
      },
      "execution_count": null,
      "outputs": [
        {
          "output_type": "stream",
          "name": "stdout",
          "text": [
            "Tuple is not sorted\n"
          ]
        }
      ]
    },
    {
      "cell_type": "code",
      "source": [
        "#39. Rotate a tuple to the left by `n` positions.\n",
        "def rot_tupleft(tup, n):\n",
        "    n = n % len(tup)  # Check n is within the range of tuple length\n",
        "    rotated_tuple = tup[n:] + tup[:n]  # Rotate the tuple\n",
        "    return rotated_tuple\n",
        "\n",
        "my_tuple = (1, 2, 3, 4, 5)\n",
        "n_positions = 2\n",
        "result = rot_tupleft(my_tuple, n_positions)\n",
        "print(result)"
      ],
      "metadata": {
        "colab": {
          "base_uri": "https://localhost:8080/"
        },
        "id": "MQqJpAIVL7gC",
        "outputId": "19b76fbe-9d16-4e03-c095-0e9767ac697b"
      },
      "execution_count": null,
      "outputs": [
        {
          "output_type": "stream",
          "name": "stdout",
          "text": [
            "(3, 4, 5, 1, 2)\n"
          ]
        }
      ]
    },
    {
      "cell_type": "code",
      "source": [
        "#40. Rotate a tuple to the right by `n` positions.\n",
        "def rot_tupright(tup, n):\n",
        "    n = n % len(tup)  # Check n is within the range of tuple length\n",
        "    rotated_tuple = tup[-n:] + tup[:-n]  # Rotate the tuple\n",
        "    return rotated_tuple\n",
        "\n",
        "my_tuple = (1, 2, 3, 4, 5)\n",
        "n_positions = 2\n",
        "result = rot_tupright(my_tuple, n_positions)\n",
        "print(result)"
      ],
      "metadata": {
        "colab": {
          "base_uri": "https://localhost:8080/"
        },
        "id": "diIFgYafMVfO",
        "outputId": "e663be37-cc11-4946-d64d-25a4ed22f049"
      },
      "execution_count": null,
      "outputs": [
        {
          "output_type": "stream",
          "name": "stdout",
          "text": [
            "(4, 5, 1, 2, 3)\n"
          ]
        }
      ]
    },
    {
      "cell_type": "code",
      "source": [
        "#41. Create a tuple of the first 5 Fibonacci numbers.\n",
        "def fibonacci(n): #function to generate the fibonacci number\n",
        "    fibonacci_list = [0, 1]  # Initialize the list with the first two Fibonacci numbers, since tuple is immutable using list here42. Create a tuple from user input.\n",
        "    for i in range(2, n): #iterate through the upto n number\n",
        "        next_fibonacci = fibonacci_list[i - 1] + fibonacci_list[i - 2] #sum of previous two nos.\n",
        "        fibonacci_list.append(next_fibonacci) #append\n",
        "    return tuple(fibonacci_list) #return as tuple\n",
        "fibonacci_numbers = fibonacci(5) # Generate the first 5 Fibonacci numbers, call the function\n",
        "print(\"List of the first 10 Fibonacci numbers:\", fibonacci_numbers) # Print the list of Fibonacci numbers"
      ],
      "metadata": {
        "colab": {
          "base_uri": "https://localhost:8080/"
        },
        "id": "xHvt0RyFN6Xo",
        "outputId": "b72eab8a-e808-4dca-c12c-235f88a4d054"
      },
      "execution_count": null,
      "outputs": [
        {
          "output_type": "stream",
          "name": "stdout",
          "text": [
            "List of the first 10 Fibonacci numbers: (0, 1, 1, 2, 3)\n"
          ]
        }
      ]
    },
    {
      "cell_type": "code",
      "source": [
        "#42. Create a tuple from user input.\n",
        "input_str = input(\"Enter elements separated by commas: \") #get input from user\n",
        "input_list = input_str.split(',') ## Splitting the input string into a list of strings\n",
        "\n",
        "# Converting the list of strings to a tuple\n",
        "user_tuple = tuple(input_list)\n",
        "\n",
        "# Printing the created tuple\n",
        "print(\"User input tuple:\", user_tuple)"
      ],
      "metadata": {
        "colab": {
          "base_uri": "https://localhost:8080/"
        },
        "id": "iCyiUSsOWsCC",
        "outputId": "0428c905-b0df-4e70-be7a-81a1a873af17"
      },
      "execution_count": null,
      "outputs": [
        {
          "output_type": "stream",
          "name": "stdout",
          "text": [
            "Enter elements separated by commas: 1,3,5,6,9\n",
            "User input tuple: ('1', '3', '5', '6', '9')\n"
          ]
        }
      ]
    },
    {
      "cell_type": "code",
      "source": [
        "#43. Swap two elements in a tuple.\n",
        "my_tuple = (1, 2, 3, 4, 5)\n",
        "# Swap elements at indices 1 and 3\n",
        "index1 = 0\n",
        "index2 = 4\n",
        "swap_tuple = tuple(\n",
        "    my_tuple[i] if i not in (index1, index2) else\n",
        "    my_tuple[index2] if i == index1 else\n",
        "    my_tuple[index1]\n",
        "    for i in range(len(my_tuple))\n",
        ")\n",
        "\n",
        "# Print the swapped tuple\n",
        "print(\"Swapped tuple:\", swap_tuple)"
      ],
      "metadata": {
        "colab": {
          "base_uri": "https://localhost:8080/"
        },
        "id": "9Lo0xSXsbRXQ",
        "outputId": "018611ea-6d34-4480-f6a3-71003e28281b"
      },
      "execution_count": null,
      "outputs": [
        {
          "output_type": "stream",
          "name": "stdout",
          "text": [
            "Swapped tuple: (5, 2, 3, 4, 1)\n"
          ]
        }
      ]
    },
    {
      "cell_type": "code",
      "source": [
        "# 44. Reverse elements of tuple\n",
        "my_tuple = (1, 2, 3, 4, 5)\n",
        "\n",
        "reversed_tuple = my_tuple[::-1] # Reverse the elements using slicing\n",
        "\n",
        "# Print the reversed tuple\n",
        "print(\"Reversed tuple:\", reversed_tuple)"
      ],
      "metadata": {
        "colab": {
          "base_uri": "https://localhost:8080/"
        },
        "id": "qr8sBkICb8EC",
        "outputId": "07ff4a9f-ee70-423f-c051-3e3110421309"
      },
      "execution_count": null,
      "outputs": [
        {
          "output_type": "stream",
          "name": "stdout",
          "text": [
            "Reversed tuple: (5, 4, 3, 2, 1)\n"
          ]
        }
      ]
    },
    {
      "cell_type": "code",
      "source": [
        "### 45. Create a tuple of the first `n` powers of 2.\n",
        "n = 5\n",
        "\n",
        "# Create a tuple of the first n powers of 2 using a list comprehension\n",
        "powers2_tup = tuple(2 ** i for i in range(n))\n",
        "\n",
        "# Print the tuple of powers of 2\n",
        "print(\"Tuple of the first\", n, \"powers of 2:\", powers2_tup)\n"
      ],
      "metadata": {
        "colab": {
          "base_uri": "https://localhost:8080/"
        },
        "id": "PSI4rgMpchc6",
        "outputId": "c48ccc7e-26ce-4715-af51-af4d651a278d"
      },
      "execution_count": null,
      "outputs": [
        {
          "output_type": "stream",
          "name": "stdout",
          "text": [
            "Tuple of the first 5 powers of 2: (1, 2, 4, 8, 16)\n"
          ]
        }
      ]
    },
    {
      "cell_type": "code",
      "source": [
        "#### 46. Find the longest string in a tuple of strings.\n",
        "# Create a tuple of strings\n",
        "string_tuple = (\"Sunday\", \"Monday\", \"Tuesday\", \"Wednesday\", \"Thursday\",\"Friday\",\"Saturday\")\n",
        "\n",
        "# Find the longest string in the tuple\n",
        "longest_string = max(string_tuple, key=len)\n",
        "\n",
        "# Print the longest string\n",
        "print(\"Longest string:\", longest_string)"
      ],
      "metadata": {
        "colab": {
          "base_uri": "https://localhost:8080/"
        },
        "id": "vb-kga27c7Xa",
        "outputId": "c232564f-42dc-49ee-b34c-9d765ca3bca0"
      },
      "execution_count": null,
      "outputs": [
        {
          "output_type": "stream",
          "name": "stdout",
          "text": [
            "Longest string: Wednesday\n"
          ]
        }
      ]
    },
    {
      "cell_type": "code",
      "source": [
        "### 47. Find the shortest string in a tuple of strings.\n",
        "# Create a tuple of strings\n",
        "string_tuple = (\"Sunday\", \"Monday\", \"Tuesday\", \"Wednesday\", \"Thursday\",\"Friday\",\"Saturday\")\n",
        "\n",
        "# Find the shortest string in the tuple\n",
        "longest_string = min(string_tuple, key=len)\n",
        "\n",
        "# Print the shortest string\n",
        "print(\"Shortest string:\", longest_string)\n"
      ],
      "metadata": {
        "id": "2bdLnIvxofix",
        "colab": {
          "base_uri": "https://localhost:8080/"
        },
        "outputId": "cb1b5399-f1be-4fd3-deed-dbc8d67d84ff"
      },
      "execution_count": 1,
      "outputs": [
        {
          "output_type": "stream",
          "name": "stdout",
          "text": [
            "Shortest string: Sunday\n"
          ]
        }
      ]
    },
    {
      "cell_type": "code",
      "source": [
        "#48. Create a tuple of the first n triangular numbers.\n",
        "# Define the value of n\n",
        "n = 5\n",
        "\n",
        "# Create a tuple of the first n triangular numbers using a list comprehension\n",
        "triangle_tuple = tuple((i * (i + 1)) // 2 for i in range(1, n + 1))\n",
        "\n",
        "# Print the tuple of triangular numbers\n",
        "print(\"Tuple of the first\", n, \"Triangular numbers:\", triangle_tuple)"
      ],
      "metadata": {
        "colab": {
          "base_uri": "https://localhost:8080/"
        },
        "id": "UGrKDZwkqA56",
        "outputId": "8112069b-4288-4c1d-f585-57740d65f5a1"
      },
      "execution_count": 2,
      "outputs": [
        {
          "output_type": "stream",
          "name": "stdout",
          "text": [
            "Tuple of the first 5 Triangular numbers: (1, 3, 6, 10, 15)\n"
          ]
        }
      ]
    },
    {
      "cell_type": "code",
      "source": [
        "#49. Check if a tuple contains another tuple as a subsequence.\n",
        "def contains_subsequence(main_tuple, sub_tuple):\n",
        "    sub_length = len(sub_tuple)\n",
        "    for i in range(len(main_tuple) - sub_length + 1):\n",
        "        if main_tuple[i:i+sub_length] == sub_tuple:\n",
        "            return True\n",
        "    return False\n",
        "\n",
        "# Main tuple\n",
        "main_tuple = (1, 2, 3, 4, 5, 6, 7, 8, 9)\n",
        "\n",
        "# Subsequence tuple\n",
        "sub_tuple = (3, 4, 5)\n",
        "\n",
        "# Check if the main tuple contains the subsequence tuple\n",
        "contains_subseq = contains_subsequence(main_tuple, sub_tuple)\n",
        "\n",
        "# Print the result\n",
        "print(\"Main tuple contains subsequence tuple:\", contains_subseq)"
      ],
      "metadata": {
        "colab": {
          "base_uri": "https://localhost:8080/"
        },
        "id": "P1uKiQtNqHX4",
        "outputId": "c5dd97cb-a120-43cc-acd1-9729b7c1c1f6"
      },
      "execution_count": 3,
      "outputs": [
        {
          "output_type": "stream",
          "name": "stdout",
          "text": [
            "Main tuple contains subsequence tuple: True\n"
          ]
        }
      ]
    },
    {
      "cell_type": "code",
      "source": [
        "#50. Create a tuple of alternating 1s and 0s of length n.\n",
        "# Define the value of n\n",
        "n = 10\n",
        "\n",
        "# Create a tuple of alternating 1s and 0s using a list comprehension\n",
        "alternating_tuple = tuple(i % 2 for i in range(n))\n",
        "\n",
        "# Print the tuple of alternating 1s and 0s\n",
        "print(\"Tuple of alternating 1s and 0s:\", alternating_tuple)"
      ],
      "metadata": {
        "colab": {
          "base_uri": "https://localhost:8080/"
        },
        "id": "lN63bigz2A76",
        "outputId": "0d9dd6d0-c566-4608-d7fe-3ccb397b2a94"
      },
      "execution_count": 4,
      "outputs": [
        {
          "output_type": "stream",
          "name": "stdout",
          "text": [
            "Tuple of alternating 1s and 0s: (0, 1, 0, 1, 0, 1, 0, 1, 0, 1)\n"
          ]
        }
      ]
    },
    {
      "cell_type": "code",
      "source": [
        "#Set based problems:\n",
        "#1. Create a set with integers from 1 to 5\n",
        "input_set = {1,2,3,4,5} #create a set from 1 to 5\n",
        "print(input_set)\n",
        "type(input_set)"
      ],
      "metadata": {
        "id": "kY-b8eKZ7rRb",
        "colab": {
          "base_uri": "https://localhost:8080/"
        },
        "outputId": "20dcb922-62da-4791-ebcf-590d64734c4c"
      },
      "execution_count": 5,
      "outputs": [
        {
          "output_type": "stream",
          "name": "stdout",
          "text": [
            "{1, 2, 3, 4, 5}\n"
          ]
        },
        {
          "output_type": "execute_result",
          "data": {
            "text/plain": [
              "set"
            ]
          },
          "metadata": {},
          "execution_count": 5
        }
      ]
    },
    {
      "cell_type": "code",
      "source": [
        "#2. Add an element to a set\n",
        "input_set ={1,2,3,4,5} #input set\n",
        "input_set.add(9) #adding an element to set\n",
        "print(input_set)"
      ],
      "metadata": {
        "colab": {
          "base_uri": "https://localhost:8080/"
        },
        "id": "LXtjqaUr7wGH",
        "outputId": "f439e8e1-9ba7-48ce-8882-f63870fec2d2"
      },
      "execution_count": 6,
      "outputs": [
        {
          "output_type": "stream",
          "name": "stdout",
          "text": [
            "{1, 2, 3, 4, 5, 9}\n"
          ]
        }
      ]
    },
    {
      "cell_type": "code",
      "source": [
        "# 3. Remove an element from a set.\n",
        "input_set ={1,2,3,4,5,9} #input set\n",
        "input_set.remove(9) #removing an element to set\n",
        "print(input_set) #print the result"
      ],
      "metadata": {
        "colab": {
          "base_uri": "https://localhost:8080/"
        },
        "id": "JkEJZvH87-uU",
        "outputId": "4e882003-4ee4-41fa-b296-a4e8a34c63a0"
      },
      "execution_count": 7,
      "outputs": [
        {
          "output_type": "stream",
          "name": "stdout",
          "text": [
            "{1, 2, 3, 4, 5}\n"
          ]
        }
      ]
    },
    {
      "cell_type": "code",
      "source": [
        "#4. Check if an element exists in a set.\n",
        "input_set ={1,2,3,4,5,9} #input set\n",
        "to_check = 9\n",
        "if to_check in input_set: #checking an element is in set\n",
        "   print(f\"'{to_check}' exists in '{input_set}'\") #print the result\n",
        "else:\n",
        "   print(f\"'{to_check}' does not exists in '{input_set}'\") #print the result"
      ],
      "metadata": {
        "colab": {
          "base_uri": "https://localhost:8080/"
        },
        "id": "MhQ16Xm98cTc",
        "outputId": "0b473395-845a-4d6a-d02c-1dbecadeb42b"
      },
      "execution_count": null,
      "outputs": [
        {
          "output_type": "stream",
          "name": "stdout",
          "text": [
            "'9' exists in '{1, 2, 3, 4, 5, 9}'\n"
          ]
        }
      ]
    },
    {
      "cell_type": "code",
      "source": [
        "#5. Find the length of a set without using the len() function\n",
        "input_set = {1,2,3,4,5,9} #input set\n",
        "count_var =0 #variable to hold the count\n",
        "for i in input_set:\n",
        "  count_var +=1\n",
        "print(f\"Length of Set{input_set} is {count_var}\")\n"
      ],
      "metadata": {
        "colab": {
          "base_uri": "https://localhost:8080/"
        },
        "id": "DgQoN0a69OZQ",
        "outputId": "0172cc08-f057-4c84-c814-be150878d206"
      },
      "execution_count": null,
      "outputs": [
        {
          "output_type": "stream",
          "name": "stdout",
          "text": [
            "Length of Set{1, 2, 3, 4, 5, 9} is 6\n"
          ]
        }
      ]
    },
    {
      "cell_type": "code",
      "source": [
        "#6. Clear all elements from a set.\n",
        "input_set = {1,2,3,4,5,9} #input set\n",
        "#print(input_set) #print\n",
        "input_set.clear() #clear the set\n",
        "print(len(input_set)) #after clearing the set, length is 0"
      ],
      "metadata": {
        "colab": {
          "base_uri": "https://localhost:8080/"
        },
        "id": "xmk0KA5O_Nv7",
        "outputId": "a54f7da2-b7c8-4a29-95e6-9c7b092a82ea"
      },
      "execution_count": null,
      "outputs": [
        {
          "output_type": "stream",
          "name": "stdout",
          "text": [
            "0\n"
          ]
        }
      ]
    },
    {
      "cell_type": "code",
      "source": [
        "#7.Create a set of even numbers from 1 to 10\n",
        "even_set = set(i for i in range(0,11,2)) #from 1 to 10, step by 2 and change to set\n",
        "print(even_set) #print the result"
      ],
      "metadata": {
        "colab": {
          "base_uri": "https://localhost:8080/"
        },
        "id": "IWPm6vrh_pDN",
        "outputId": "40800ec6-d03d-434f-9678-de614612d12a"
      },
      "execution_count": null,
      "outputs": [
        {
          "output_type": "stream",
          "name": "stdout",
          "text": [
            "{0, 2, 4, 6, 8, 10}\n"
          ]
        }
      ]
    },
    {
      "cell_type": "code",
      "source": [
        "#8. Create a set of odd numbers from 1 to 10\n",
        "even_set = set(i for i in range(1,11,2)) #from 1 to 10, step by 2 and change to set\n",
        "print(even_set) #print the result"
      ],
      "metadata": {
        "colab": {
          "base_uri": "https://localhost:8080/"
        },
        "id": "Mko5xgmUALnf",
        "outputId": "4cdfaabf-40a1-4974-bf86-fae4fca7f6ea"
      },
      "execution_count": null,
      "outputs": [
        {
          "output_type": "stream",
          "name": "stdout",
          "text": [
            "{1, 3, 5, 7, 9}\n"
          ]
        }
      ]
    },
    {
      "cell_type": "code",
      "source": [
        "#9. Find the union of two sets\n",
        "set1 ={1,2,3,4,5} #input set1\n",
        "set2 ={6,7,8,9,10} #input set2\n",
        "final_set = set1.union(set2)#set union using union function\n",
        "print(final_set) #print the result"
      ],
      "metadata": {
        "colab": {
          "base_uri": "https://localhost:8080/"
        },
        "id": "3TknL0F-AX1A",
        "outputId": "fc7a01bb-3d39-4e73-b663-f80d792ad518"
      },
      "execution_count": null,
      "outputs": [
        {
          "output_type": "stream",
          "name": "stdout",
          "text": [
            "{1, 2, 3, 4, 5, 6, 7, 8, 9, 10}\n"
          ]
        }
      ]
    },
    {
      "cell_type": "code",
      "source": [
        "#10. Find the intersection of two sets\n",
        "set1 ={1,2,3,4,5,6} #input set1\n",
        "set2 ={6,7,8,9,10} #input set2\n",
        "final_set = set1.intersection(set2)#set intersection using intersection function\n",
        "print(final_set) #print the result"
      ],
      "metadata": {
        "colab": {
          "base_uri": "https://localhost:8080/"
        },
        "id": "xeKuZZ8tAv6O",
        "outputId": "cd49e07d-a7ed-4afa-9d04-b93249c6a825"
      },
      "execution_count": null,
      "outputs": [
        {
          "output_type": "stream",
          "name": "stdout",
          "text": [
            "{6}\n"
          ]
        }
      ]
    },
    {
      "cell_type": "code",
      "source": [
        "#11. Find the difference between two sets.\n",
        "set1 ={1,2,3,4,5,6} #input set1\n",
        "set2 ={6,7,8,9,10} #input set2\n",
        "final_set = set1.difference(set2)#set difference using difference function\n",
        "print(final_set) #print the result"
      ],
      "metadata": {
        "colab": {
          "base_uri": "https://localhost:8080/"
        },
        "id": "bqFtK6VXA7r2",
        "outputId": "40d2e0e3-2eaf-4a75-ba82-4ca36abc6e12"
      },
      "execution_count": null,
      "outputs": [
        {
          "output_type": "stream",
          "name": "stdout",
          "text": [
            "{1, 2, 3, 4, 5}\n"
          ]
        }
      ]
    },
    {
      "cell_type": "code",
      "source": [
        "#12. Check if a set is a subset of another set.\n",
        "set1 ={1,2,3,4,5,6} #input set1\n",
        "set2 ={6,7,8,9,10} #input set2\n",
        "final_set = set1.issubset(set2)#check issubset using issubset\n",
        "print(final_set) #print the result"
      ],
      "metadata": {
        "colab": {
          "base_uri": "https://localhost:8080/"
        },
        "id": "FdhCdsegBRdV",
        "outputId": "b1d6c074-3433-4aa3-c048-bd815b7e2f16"
      },
      "execution_count": null,
      "outputs": [
        {
          "output_type": "stream",
          "name": "stdout",
          "text": [
            "False\n"
          ]
        }
      ]
    },
    {
      "cell_type": "code",
      "source": [
        "#13. Check if a set is a superset of another set.\n",
        "set1 ={1,2,3,4,5,6,9,10} #input set1\n",
        "set2 ={6,9,10} #input set2\n",
        "final_set = set1.issuperset(set2)#check superset using issubset\n",
        "print(final_set) #print the result\n"
      ],
      "metadata": {
        "colab": {
          "base_uri": "https://localhost:8080/"
        },
        "id": "N0tY9dyWBnCb",
        "outputId": "6c94adcf-39c0-4b38-c556-729d542bfad3"
      },
      "execution_count": null,
      "outputs": [
        {
          "output_type": "stream",
          "name": "stdout",
          "text": [
            "True\n"
          ]
        }
      ]
    },
    {
      "cell_type": "code",
      "source": [
        "#14. Create a set from a list\n",
        "list_inp = [1,2,3,3] #list\n",
        "set_fromlist= set(list_inp) #convert list to set\n",
        "print(set_fromlist) #print the set"
      ],
      "metadata": {
        "colab": {
          "base_uri": "https://localhost:8080/"
        },
        "id": "zUaACJtbCBjv",
        "outputId": "1f6eed10-0e36-4b45-aed5-e4034a451565"
      },
      "execution_count": null,
      "outputs": [
        {
          "output_type": "stream",
          "name": "stdout",
          "text": [
            "{1, 2, 3}\n"
          ]
        }
      ]
    },
    {
      "cell_type": "code",
      "source": [
        "#15. Convert a set to a list.\n",
        "set_inp = {1,2,3,3} #set\n",
        "list_fromset= list(set_inp) #convert set to list\n",
        "print(list_fromset) #print the list"
      ],
      "metadata": {
        "colab": {
          "base_uri": "https://localhost:8080/"
        },
        "id": "6rTj1_gLDm3V",
        "outputId": "1f76b613-d653-49d8-9d96-c5994cb8ea65"
      },
      "execution_count": null,
      "outputs": [
        {
          "output_type": "stream",
          "name": "stdout",
          "text": [
            "[1, 2, 3]\n"
          ]
        }
      ]
    },
    {
      "cell_type": "code",
      "source": [
        "#16. Remove a random element from a set.\n",
        "import random #import module\n",
        "set_inp = {1,2,3,3} #set\n",
        "randomelm= random.choice(list(set_inp)) #convert set to list and get an element randomly\n",
        "set_inp.remove(randomelm) #remove the random element\n",
        "print(set_inp) #print the set"
      ],
      "metadata": {
        "colab": {
          "base_uri": "https://localhost:8080/"
        },
        "id": "sjZDBrfyEG1y",
        "outputId": "e1dd604a-0734-438e-cfc3-f189826ce51a"
      },
      "execution_count": null,
      "outputs": [
        {
          "output_type": "stream",
          "name": "stdout",
          "text": [
            "{2, 3}\n"
          ]
        }
      ]
    },
    {
      "cell_type": "code",
      "source": [
        "#17. Pop an element from a set.\n",
        "set_inp = {1,2,3,3} #set\n",
        "\n",
        "print('Original Set:', set_inp) #print\n",
        "pop_elmt = set_inp.pop() #pop element\n",
        "print('Pop element:',pop_elmt) #print\n",
        "print('After pop, Set:',set_inp) #print\n",
        "\n"
      ],
      "metadata": {
        "colab": {
          "base_uri": "https://localhost:8080/"
        },
        "id": "4OWDPsQLGlXq",
        "outputId": "29641e75-0369-4681-be46-341648009a06"
      },
      "execution_count": 8,
      "outputs": [
        {
          "output_type": "stream",
          "name": "stdout",
          "text": [
            "Original Set: {1, 2, 3}\n",
            "Pop element: 1\n",
            "After pop, Set: {2, 3}\n"
          ]
        }
      ]
    },
    {
      "cell_type": "code",
      "source": [
        "#18. Check if two sets have no elements in common.\n",
        "set1 ={1,2,3,4,5,6} #input set1\n",
        "set2 ={6,7,8,9,10} #input set2\n",
        "final_set = set1.intersection(set2)#finding common elements using intersection function\n",
        "if not final_set: #if common elements is empty or None\n",
        "  print('No Common elements')   #print\n",
        "else:\n",
        "  print('Common elements:',final_set)   #print"
      ],
      "metadata": {
        "colab": {
          "base_uri": "https://localhost:8080/"
        },
        "id": "Wl2BIPaPHH8q",
        "outputId": "2cf768d7-3c46-42db-9a24-ba0aff84e831"
      },
      "execution_count": null,
      "outputs": [
        {
          "output_type": "stream",
          "name": "stdout",
          "text": [
            "Common elements: {6}\n"
          ]
        }
      ]
    },
    {
      "cell_type": "code",
      "source": [
        "#19. Find the symmetric difference between two sets.\n",
        "set1 ={1,2,3,4,5,6} #input set1\n",
        "set2 ={6,7,8,9,10} #input set2\n",
        "final_set = set1^set2 #finding symmetric difference\n",
        "if not final_set: #if common elements is empty or None\n",
        "  print('No Symmetric difference')   #print\n",
        "else:\n",
        "  print('Symmetric difference:',final_set)   #print"
      ],
      "metadata": {
        "colab": {
          "base_uri": "https://localhost:8080/"
        },
        "id": "oSoOG21rH82Z",
        "outputId": "b83a740d-dd5d-4382-d9a3-91bead7f61a7"
      },
      "execution_count": null,
      "outputs": [
        {
          "output_type": "stream",
          "name": "stdout",
          "text": [
            "Symmetric difference: {1, 2, 3, 4, 5, 7, 8, 9, 10}\n"
          ]
        }
      ]
    },
    {
      "cell_type": "code",
      "source": [
        "#20. Update a set with elements from another set.\n",
        "set1 = {1, 2, 3}\n",
        "print('Original Set:', set_inp) #print\n",
        "\n",
        "set2 = {3, 4, 5}\n",
        "print(\"Another Set:\", set2)\n",
        "\n",
        "# Update set1 with elements from set2\n",
        "set1.update(set2)\n",
        "print(\"Updated Set:\", set1)"
      ],
      "metadata": {
        "colab": {
          "base_uri": "https://localhost:8080/"
        },
        "id": "nj4fjnXTI2UU",
        "outputId": "5610a0da-36d3-4ef1-8359-c3ebe6ad6d36"
      },
      "execution_count": null,
      "outputs": [
        {
          "output_type": "stream",
          "name": "stdout",
          "text": [
            "Original Set: {2, 3}\n",
            "Another Set: {3, 4, 5}\n",
            "Updated Set: {1, 2, 3, 4, 5}\n"
          ]
        }
      ]
    },
    {
      "cell_type": "code",
      "source": [
        "#21. Create a set of the first 5 prime numbers.\n",
        "# Function to check if a number is prime\n",
        "def is_prime(num):\n",
        "    if num <= 1:\n",
        "        return False\n",
        "    for i in range(2, int(num ** 0.5) + 1):\n",
        "        if num % i == 0:\n",
        "            return False\n",
        "    return True\n",
        "\n",
        "# Create an empty set to store the prime numbers\n",
        "prime_set = set()\n",
        "\n",
        "# Initialize the number to start checking for primes\n",
        "num = 2\n",
        "\n",
        "# Loop until we have found the first 5 prime numbers\n",
        "while len(prime_set) < 5:\n",
        "    # Check if the current number is prime using the is_prime function\n",
        "    if is_prime(num):\n",
        "        # If the number is prime, add it to the prime_set\n",
        "        prime_set.add(num)\n",
        "\n",
        "    # Move on to the next number for the next iteration\n",
        "    num += 1\n",
        "\n",
        "# Print the set of prime numbers\n",
        "print(\"Set of the first 5 prime numbers:\", prime_set)"
      ],
      "metadata": {
        "colab": {
          "base_uri": "https://localhost:8080/"
        },
        "id": "C5kIGyXkL78V",
        "outputId": "16a1dcbc-d053-43a9-a2ba-9a303dcb83fd"
      },
      "execution_count": null,
      "outputs": [
        {
          "output_type": "stream",
          "name": "stdout",
          "text": [
            "Set of the first 5 prime numbers: {2, 3, 5, 7, 11}\n"
          ]
        }
      ]
    },
    {
      "cell_type": "code",
      "source": [
        "  #22. Check if two sets are identical.\n",
        "set1 = {1, 2, 3, 4, 5}\n",
        "set2 = {3, 1, 5, 2, 4}\n",
        "\n",
        "if set1 == set2: #compares the content of the sets.\n",
        "    print(\"The sets are identical.\")\n",
        "else:\n",
        "    print(\"The sets are not identical.\")"
      ],
      "metadata": {
        "colab": {
          "base_uri": "https://localhost:8080/"
        },
        "id": "gRQY0LANRgng",
        "outputId": "aba79829-4e86-4062-8cbb-e56d0a30c694"
      },
      "execution_count": null,
      "outputs": [
        {
          "output_type": "stream",
          "name": "stdout",
          "text": [
            "The sets are identical.\n"
          ]
        }
      ]
    },
    {
      "cell_type": "code",
      "source": [
        "#23. Create a frozen set\n",
        "elements = [1, 2, 3, 4, 5]\n",
        "\n",
        "frozen_set = frozenset(elements)\n",
        "\n",
        "print(\"Frozen Set:\", frozen_set)#  Print the frozen set"
      ],
      "metadata": {
        "colab": {
          "base_uri": "https://localhost:8080/"
        },
        "id": "Zou28h_Y0Z9R",
        "outputId": "26077130-dbb7-448e-db7c-f8f57d0d5cc8"
      },
      "execution_count": null,
      "outputs": [
        {
          "output_type": "stream",
          "name": "stdout",
          "text": [
            "Frozen Set: frozenset({1, 2, 3, 4, 5})\n"
          ]
        }
      ]
    },
    {
      "cell_type": "code",
      "source": [
        "#24. Check if a set is disjoint with another set.\n",
        "set1 = {1, 2, 3, 4}\n",
        "set2 = {5, 6, 7, 8}\n",
        "\n",
        "disjoint_status = set1.isdisjoint(set2)  #Check if a set is disjoint with another set.\n",
        "\n",
        "print(\"Are the sets disjoint?\", disjoint_status) #Print the result\n"
      ],
      "metadata": {
        "colab": {
          "base_uri": "https://localhost:8080/"
        },
        "id": "fjvqWdYs1Elf",
        "outputId": "531f45c0-4d57-41f7-81f7-4f8849268519"
      },
      "execution_count": null,
      "outputs": [
        {
          "output_type": "stream",
          "name": "stdout",
          "text": [
            "Are the sets disjoint? True\n"
          ]
        }
      ]
    },
    {
      "cell_type": "code",
      "source": [
        "#25. Create a set of squares of numbers from 1 to 5.\n",
        "sqr_set = set()\n",
        "\n",
        "for i in range (1,6): #iterate thro range\n",
        "  sqr_set.add(i*i) #calculate square and adding to the set\n",
        "print('Set of squares of numbers from 1 to 5:',sqr_set)#print the result"
      ],
      "metadata": {
        "colab": {
          "base_uri": "https://localhost:8080/"
        },
        "id": "H0G6_oEz1XCZ",
        "outputId": "70fdfa6f-7113-41e9-f0e8-e1ff98c28b22"
      },
      "execution_count": null,
      "outputs": [
        {
          "output_type": "stream",
          "name": "stdout",
          "text": [
            "Set of squares of numbers from 1 to 5: {1, 4, 9, 16, 25}\n"
          ]
        }
      ]
    },
    {
      "cell_type": "code",
      "source": [
        "#26. Filter out all even numbers from a set.\n",
        "input_set = {1, 4, 9, 16, 25}\n",
        "even_set=set()\n",
        "for i in input_set:\n",
        "  if(i % 2 == 0):\n",
        "    even_set.add(i)\n",
        "print(f\"All even numbers in {input_set} set:{even_set}\") #print the result"
      ],
      "metadata": {
        "colab": {
          "base_uri": "https://localhost:8080/"
        },
        "id": "ctvHWpVA2Og3",
        "outputId": "2f409911-0cad-4f9a-8b71-1208dee99e4c"
      },
      "execution_count": null,
      "outputs": [
        {
          "output_type": "stream",
          "name": "stdout",
          "text": [
            "All even numbers in {16, 1, 4, 9, 25} set:{16, 4}\n"
          ]
        }
      ]
    },
    {
      "cell_type": "code",
      "source": [
        "#27. Multiply all elements in a set by 2.\n",
        "input_set = {1, 4, 9, 16, 25}\n",
        "multiply_set=set()\n",
        "for i in input_set:\n",
        "  multiply_set.add(i*2)\n",
        "print(f\"Multiply by 2 in {input_set} set:{multiply_set}\") #print the result"
      ],
      "metadata": {
        "colab": {
          "base_uri": "https://localhost:8080/"
        },
        "id": "zHcpfNYI3LZA",
        "outputId": "89df3673-7fd2-4804-dadf-5d88458e87ed"
      },
      "execution_count": null,
      "outputs": [
        {
          "output_type": "stream",
          "name": "stdout",
          "text": [
            "Multiply by 2 in {16, 1, 4, 9, 25} set:{32, 2, 8, 18, 50}\n"
          ]
        }
      ]
    },
    {
      "cell_type": "code",
      "source": [
        "#28. Create a set of random numbers.\n",
        "import random\n",
        "num_random_numbers = 5\n",
        "random_number_set = set()\n",
        "for _ in range(num_random_numbers):\n",
        "    random_num = random.randint(1, 80)  # Generate a random number between 1 and 100\n",
        "    random_number_set.add(random_num)\n",
        "\n",
        "print(\"Generated set of random numbers:\", random_number_set) #print the random numbers set"
      ],
      "metadata": {
        "colab": {
          "base_uri": "https://localhost:8080/"
        },
        "id": "MMXqCkOW30M9",
        "outputId": "26aea7bb-beb4-4630-f8bc-9888de6bbfb3"
      },
      "execution_count": null,
      "outputs": [
        {
          "output_type": "stream",
          "name": "stdout",
          "text": [
            "Generated set of random numbers: {1, 5, 40, 8, 72}\n"
          ]
        }
      ]
    },
    {
      "cell_type": "code",
      "source": [
        "#29. Check if a set is empty.\n",
        "input_set = {1, 4, 9, 16, 25}\n",
        "if not input_set:\n",
        "  print(\"The set is empty.\")\n",
        "else:\n",
        "    print(\"The set is not empty.\")"
      ],
      "metadata": {
        "colab": {
          "base_uri": "https://localhost:8080/"
        },
        "id": "QdnAT4YP4L4f",
        "outputId": "bbf3dace-eaa6-4569-e7cb-437045f7aa6f"
      },
      "execution_count": null,
      "outputs": [
        {
          "output_type": "stream",
          "name": "stdout",
          "text": [
            "The set is not empty.\n"
          ]
        }
      ]
    },
    {
      "cell_type": "code",
      "source": [
        "#30 Create a nested set (hint: use frozenset).\n",
        "set1 = {1, 2, 3, 4, 5}\n",
        "set2 = {8, 9, 10}\n",
        "\n",
        "frozen_set1 = frozenset(set1)\n",
        "frozen_set2 = frozenset(set2)\n",
        "\n",
        "nested_set = {frozen_set1, frozen_set2} #combine the frozen set\n",
        "\n",
        "print(\"Nested Set:\", nested_set) # Print the nested set"
      ],
      "metadata": {
        "colab": {
          "base_uri": "https://localhost:8080/"
        },
        "id": "HUfnvCFn4YlX",
        "outputId": "4ac9bd65-1695-45a3-f123-1143c4c4cde3"
      },
      "execution_count": null,
      "outputs": [
        {
          "output_type": "stream",
          "name": "stdout",
          "text": [
            "Nested Set: {frozenset({1, 2, 3, 4, 5}), frozenset({8, 9, 10})}\n"
          ]
        }
      ]
    },
    {
      "cell_type": "code",
      "source": [
        "#31. Remove an element from a set using the discard method.\n",
        "set1 = {1, 2, 3, 4, 5}\n",
        "print('Before removal of element, Set:',set1)\n",
        "set1.discard(3) #remove element using discad\n",
        "print('After removal of element, Set:',set1)"
      ],
      "metadata": {
        "colab": {
          "base_uri": "https://localhost:8080/"
        },
        "id": "Mz-v5dgdXqx2",
        "outputId": "37928a20-a1fe-4a0a-c0cd-f6ca142b82dd"
      },
      "execution_count": null,
      "outputs": [
        {
          "output_type": "stream",
          "name": "stdout",
          "text": [
            "Before removal of element, Set: {1, 2, 3, 4, 5}\n",
            "After removal of element, Set: {1, 2, 4, 5}\n"
          ]
        }
      ]
    },
    {
      "cell_type": "code",
      "source": [
        "#32. Compare two sets.\n",
        "set1 = {1, 2, 3, 4}\n",
        "set2 = {5, 6, 7, 8}\n",
        "if set1 == set2: #check two sets are equal\n",
        " print('Both Sets have same elements')\n",
        "else:\n",
        "  print('Sets are different')\n",
        "\n",
        "if set1.issubset(set2) :\n",
        "    print('Set1 is subset of Set2')\n",
        "else:\n",
        "  print('Set1 is not subset of Set2')\n",
        "\n",
        "\n",
        "if set1.issuperset(set2) :\n",
        "    print('Set1 is superset of Set2')\n",
        "else:\n",
        "  print('Set1 is not superset of Set2')\n",
        "\n",
        "\n",
        "if not set1.intersection(set2) :\n",
        "    print('No Intersection')\n",
        "else:\n",
        "  print('Intersection:',set1.intersection(set2))\n",
        "\n",
        "if not set1.union(set2) :\n",
        "    print('No union')\n",
        "else:\n",
        "  print('Union:',set1.union(set2))"
      ],
      "metadata": {
        "colab": {
          "base_uri": "https://localhost:8080/"
        },
        "id": "J3ifuiDk5kOu",
        "outputId": "0fd06f22-aa21-4d28-8718-0d5d64336241"
      },
      "execution_count": null,
      "outputs": [
        {
          "output_type": "stream",
          "name": "stdout",
          "text": [
            "Sets are different\n",
            "Set1 is not subset of Set2\n",
            "Set1 is not superset of Set2\n",
            "No Intersection\n",
            "Union: {1, 2, 3, 4, 5, 6, 7, 8}\n"
          ]
        }
      ]
    },
    {
      "cell_type": "code",
      "source": [
        "#33.Create a set from a string.\n",
        "inp_str ='Welcome' #input string\n",
        "conv_set = set(inp_str) #convert string to set\n",
        "print(f\"Converted Set:\",conv_set) #print the result"
      ],
      "metadata": {
        "colab": {
          "base_uri": "https://localhost:8080/"
        },
        "id": "6Gxfwrzq7FQ7",
        "outputId": "8cf8b15e-3bf5-4cb8-839c-a87c820a6cc2"
      },
      "execution_count": null,
      "outputs": [
        {
          "output_type": "stream",
          "name": "stdout",
          "text": [
            "Converted Set: {'c', 'e', 'o', 'm', 'W', 'l'}\n"
          ]
        }
      ]
    },
    {
      "cell_type": "code",
      "source": [
        "#34. Convert a set of strings to a set of integers.\n",
        "input_str ={'1','2','3','4'} #input string set\n",
        "int_set=set(int(i) for i in (input_str))#convert to int and save in int set\n",
        "print(int_set)"
      ],
      "metadata": {
        "colab": {
          "base_uri": "https://localhost:8080/"
        },
        "id": "uTOZpXQ07j1b",
        "outputId": "d010e126-246b-4886-f383-e027f7713516"
      },
      "execution_count": null,
      "outputs": [
        {
          "output_type": "stream",
          "name": "stdout",
          "text": [
            "{1, 2, 3, 4}\n"
          ]
        }
      ]
    },
    {
      "cell_type": "code",
      "source": [
        "#35. Convert a set of integers to a set of strings.\n",
        "input_int ={1, 2, 3, 4} #input string set\n",
        "str_set=set(str(i) for i in (input_str))#convert to string and save in str set\n",
        "print(str_set)"
      ],
      "metadata": {
        "colab": {
          "base_uri": "https://localhost:8080/"
        },
        "id": "WNtMrAD19Pll",
        "outputId": "5f532835-7372-49ac-e397-32c6663cb746"
      },
      "execution_count": null,
      "outputs": [
        {
          "output_type": "stream",
          "name": "stdout",
          "text": [
            "{'3', '1', '2', '4'}\n"
          ]
        }
      ]
    },
    {
      "cell_type": "code",
      "source": [
        "#36. Create a set from a tuple.\n",
        "inp_tup = (1,2,3,4,5)\n",
        "inp_set = set(inp_tup) #converts tuple to set\n",
        "print(inp_set) #print the result"
      ],
      "metadata": {
        "colab": {
          "base_uri": "https://localhost:8080/"
        },
        "id": "SOzOY7PP9i_r",
        "outputId": "f8a1c952-0b4b-4367-8cc6-1d8c27021cc8"
      },
      "execution_count": null,
      "outputs": [
        {
          "output_type": "stream",
          "name": "stdout",
          "text": [
            "{1, 2, 3, 4, 5}\n"
          ]
        }
      ]
    },
    {
      "cell_type": "code",
      "source": [
        "#37. Convert a set to a tuple.\n",
        "inp_set = {1,2,3,4,5}\n",
        "inp_tup = tuple(inp_set) #converts set to tuple\n",
        "print(inp_tup) #print the result"
      ],
      "metadata": {
        "colab": {
          "base_uri": "https://localhost:8080/"
        },
        "id": "vKCteYLW-VDM",
        "outputId": "f0533942-3372-41f3-fba7-12e26660609d"
      },
      "execution_count": null,
      "outputs": [
        {
          "output_type": "stream",
          "name": "stdout",
          "text": [
            "(1, 2, 3, 4, 5)\n"
          ]
        }
      ]
    },
    {
      "cell_type": "code",
      "source": [
        "#38. Find the maximum value in a set\n",
        "inp_set = {1,2,3,4,5}\n",
        "max_elem = max(inp_set) #find the max in a set\n",
        "print(f\"Maximum element is {max_elem}\\nSet:{inp_set}\")"
      ],
      "metadata": {
        "colab": {
          "base_uri": "https://localhost:8080/"
        },
        "id": "e3F0Ht9A-w1d",
        "outputId": "92468432-6969-44a9-aac0-f0d16eefd636"
      },
      "execution_count": null,
      "outputs": [
        {
          "output_type": "stream",
          "name": "stdout",
          "text": [
            "Maximum element is 5\n",
            "Set:{1, 2, 3, 4, 5}\n"
          ]
        }
      ]
    },
    {
      "cell_type": "code",
      "source": [
        "#39. Find the minimum value in a set\n",
        "inp_set = {1,2,3,4,5}\n",
        "min_elem = min(inp_set) #find the max in a set\n",
        "print(f\"Minimum element is {min_elem}\\nSet:{inp_set}\")"
      ],
      "metadata": {
        "colab": {
          "base_uri": "https://localhost:8080/"
        },
        "id": "_xc44kDB_VTx",
        "outputId": "94b91664-673c-4be5-acb8-336f961456d9"
      },
      "execution_count": null,
      "outputs": [
        {
          "output_type": "stream",
          "name": "stdout",
          "text": [
            "Minimum element is 1\n",
            "Set:{1, 2, 3, 4, 5}\n"
          ]
        }
      ]
    },
    {
      "cell_type": "code",
      "source": [
        "#40. Create a set from user input.\n",
        "user_set = set()\n",
        "\n",
        "# Step 2: Get input from the user\n",
        "print(\"Enter elements for the set (type 'done' to finish):\")\n",
        "while True:\n",
        "    user_input = input(\"> \")  # Get input from the user\n",
        "\n",
        "    if user_input.lower() == 'done':\n",
        "        break  # Exit the loop if the user enters 'done'\n",
        "\n",
        "    # Step 3: Add the user input to the set\n",
        "    user_set.add(user_input)\n",
        "\n",
        "# Step 4: Display the final set created from user input\n",
        "print(\"Final set:\", user_set)"
      ],
      "metadata": {
        "id": "f7BP7FJIK8DZ",
        "colab": {
          "base_uri": "https://localhost:8080/"
        },
        "outputId": "d815efc1-224f-4388-85d1-2249f5155ef5"
      },
      "execution_count": 9,
      "outputs": [
        {
          "output_type": "stream",
          "name": "stdout",
          "text": [
            "Enter elements for the set (type 'done' to finish):\n",
            "> Welcome,done\n",
            "> done\n",
            "Final set: {'Welcome,done'}\n"
          ]
        }
      ]
    },
    {
      "cell_type": "code",
      "source": [
        "#41. Check if the intersection of two sets is empty.\n",
        "set1 = {1, 2, 3, 4}\n",
        "set2 = {5, 6, 7, 8}\n",
        "if not set1.intersection(set2) : #check the intersection is not empty\n",
        "    print('No Intersection')\n",
        "else:\n",
        "  print('Intersection:',set1.intersection(set2))\n"
      ],
      "metadata": {
        "id": "WHCXHCu7FF42",
        "colab": {
          "base_uri": "https://localhost:8080/"
        },
        "outputId": "162a4f61-46ef-40cb-f9b9-e83f9d1aac8c"
      },
      "execution_count": 10,
      "outputs": [
        {
          "output_type": "stream",
          "name": "stdout",
          "text": [
            "No Intersection\n"
          ]
        }
      ]
    },
    {
      "cell_type": "code",
      "source": [
        "#42. Create a set of the first 5 Fibonacci numbers.\n",
        "fibonacci_set = set()\n",
        "\n",
        "# Initialize the first two Fibonacci numbers\n",
        "a, b = 0, 1\n",
        "\n",
        "for _ in range(6): # Loop to generate the first 5 Fibonacci numbers\n",
        "    fibonacci_set.add(a) # Add the current Fibonacci number to the set\n",
        "    a, b = b, a + b # Calculate the next Fibonacci number\n",
        "print(\"Set of the first 5 Fibonacci numbers:\", fibonacci_set) # Print the set of Fibonacci numbers"
      ],
      "metadata": {
        "id": "VChSM0kAFZj2",
        "colab": {
          "base_uri": "https://localhost:8080/"
        },
        "outputId": "867ba0d9-9e34-4620-f533-9a326c3aae98"
      },
      "execution_count": 11,
      "outputs": [
        {
          "output_type": "stream",
          "name": "stdout",
          "text": [
            "Set of the first 5 Fibonacci numbers: {0, 1, 2, 3, 5}\n"
          ]
        }
      ]
    },
    {
      "cell_type": "code",
      "source": [
        "#43. Remove duplicates from a list using sets.\n",
        "inp_set =[1,2,4,5,5,4,3,5,3,1,2] #list with duplicate values\n",
        "inp_list = set(inp_set) #convert to set\n",
        "fin_list =list(inp_list) #convert to list back\n",
        "print(fin_list)"
      ],
      "metadata": {
        "id": "ZP_hj32VFwCa",
        "colab": {
          "base_uri": "https://localhost:8080/"
        },
        "outputId": "ef3323d3-e0aa-4e9a-9583-f0aea8fee9f1"
      },
      "execution_count": 12,
      "outputs": [
        {
          "output_type": "stream",
          "name": "stdout",
          "text": [
            "[1, 2, 3, 4, 5]\n"
          ]
        }
      ]
    },
    {
      "cell_type": "code",
      "source": [
        "#44. Check if two sets have the same elements, regardless of their count.\n",
        "set1 = {1, 2, 3, 4}\n",
        "set2 = {5, 6, 7, 8}\n",
        "if set1 == set2: #check two sets are equal\n",
        " print('Both Sets have same elements')\n",
        "else:\n",
        "  print('Sets are different')"
      ],
      "metadata": {
        "id": "am0R-ug-GL1I",
        "colab": {
          "base_uri": "https://localhost:8080/"
        },
        "outputId": "7aa0534b-839c-4442-d017-497bc74aeb36"
      },
      "execution_count": 13,
      "outputs": [
        {
          "output_type": "stream",
          "name": "stdout",
          "text": [
            "Sets are different\n"
          ]
        }
      ]
    },
    {
      "cell_type": "code",
      "source": [
        "#45. Create a set of the first n powers of 2\n",
        "inp_set = set()\n",
        "n = 5\n",
        "for i in range(n):\n",
        "  power = 2 ** i\n",
        "  inp_set.add(power)\n",
        "print(inp_set) #print the result"
      ],
      "metadata": {
        "id": "fzmOas8qHEkI",
        "colab": {
          "base_uri": "https://localhost:8080/"
        },
        "outputId": "df6c1a3e-49c0-4a6d-9e08-986440e87425"
      },
      "execution_count": 14,
      "outputs": [
        {
          "output_type": "stream",
          "name": "stdout",
          "text": [
            "{1, 2, 4, 8, 16}\n"
          ]
        }
      ]
    },
    {
      "cell_type": "code",
      "source": [
        "#46. Find the common elements between a set and a list.\n",
        "my_set = {3, 7, 9, 12, 15}\n",
        "my_list = [7, 12, 5, 9]\n",
        "list_to_set = set(my_list)\n",
        "common_elements = []\n",
        "\n",
        "for element in my_set: #Iterate through the elements in the set\n",
        "    if element in list_to_set:  # Check if the element is present in the converted set (list_to_set)\n",
        "         common_elements.append(element) #If the element is present in both the set and the list, add it to the common_elements list\n",
        "\n",
        "print(\"Common elements:\", common_elements) #Print the common elements"
      ],
      "metadata": {
        "id": "eV7ztIx7HxYF",
        "colab": {
          "base_uri": "https://localhost:8080/"
        },
        "outputId": "f54abbb2-0814-4aa5-d69e-c75794ec9474"
      },
      "execution_count": 15,
      "outputs": [
        {
          "output_type": "stream",
          "name": "stdout",
          "text": [
            "Common elements: [7, 9, 12]\n"
          ]
        }
      ]
    },
    {
      "cell_type": "code",
      "source": [
        "#47. Create a set of the first n triangular numbers.:\n",
        "def tri_numbers(n):\n",
        "    triangular_numbers = set()  # Create an empty set to store the triangular numbers\n",
        "    for i in range(1, n + 1):\n",
        "        triangular_number = i * (i + 1) // 2  # Calculate the ith triangular number using the formula\n",
        "        triangular_numbers.add(triangular_number)  # Add the calculated triangular number to the set\n",
        "    return triangular_numbers\n",
        "\n",
        "# Input the value of 'n'\n",
        "n = int(input(\"Enter the value of n: \"))\n",
        "\n",
        "# Call the function to generate the set of first 'n' triangular numbers\n",
        "triangular_set = tri_numbers(n)\n",
        "\n",
        "# Display the set of triangular numbers\n",
        "print(f\"The set of the first {n} triangular numbers is:\", triangular_set)"
      ],
      "metadata": {
        "id": "s7pqYX5-IHgI",
        "colab": {
          "base_uri": "https://localhost:8080/"
        },
        "outputId": "e8176929-8946-46c4-f604-5d862c5c561d"
      },
      "execution_count": 16,
      "outputs": [
        {
          "output_type": "stream",
          "name": "stdout",
          "text": [
            "Enter the value of n: 7\n",
            "The set of the first 7 triangular numbers is: {1, 3, 6, 10, 15, 21, 28}\n"
          ]
        }
      ]
    },
    {
      "cell_type": "code",
      "source": [
        "#48. Check if a set contains another set as a subset.\n",
        "set1 = {1, 2, 3, 4, 5,7,8,9,10}\n",
        "set2 = {3, 4,1,2}\n",
        "\n",
        "# Check if set2 is a subset of set1\n",
        "is_subset = set2.issubset(set1)\n",
        "\n",
        "# Print the result\n",
        "if is_subset:\n",
        "    print(\"set2 is a subset of set1\")\n",
        "else:\n",
        "    print(\"set2 is not a subset of set1\")"
      ],
      "metadata": {
        "id": "qy7yZeFkIawp",
        "colab": {
          "base_uri": "https://localhost:8080/"
        },
        "outputId": "b554d734-ba12-48fe-9722-b25d9b06ee15"
      },
      "execution_count": 17,
      "outputs": [
        {
          "output_type": "stream",
          "name": "stdout",
          "text": [
            "set2 is a subset of set1\n"
          ]
        }
      ]
    },
    {
      "cell_type": "code",
      "source": [
        "#49. Create a set of alternating 1s and 0s of length n.\n",
        "def create_alternating_set(n):\n",
        "    alternating_set = set()\n",
        "    for i in range(n):\n",
        "        if i % 2 == 0:\n",
        "            alternating_set.add(1)  # Add 1 if i is even.\n",
        "        else:\n",
        "            alternating_set.add(0)  # Add 0 if i is odd.\n",
        "\n",
        "    return alternating_set\n",
        "\n",
        "length_n = 10\n",
        "\n",
        "result = create_alternating_set(length_n)\n",
        "\n",
        "print(result) # Print the resulting set."
      ],
      "metadata": {
        "id": "Sp39QbB8IkPz",
        "colab": {
          "base_uri": "https://localhost:8080/"
        },
        "outputId": "bf51b9d4-6da3-4f85-d0d6-aa2859b15461"
      },
      "execution_count": 18,
      "outputs": [
        {
          "output_type": "stream",
          "name": "stdout",
          "text": [
            "{0, 1}\n"
          ]
        }
      ]
    },
    {
      "cell_type": "code",
      "source": [
        "#50. Merge multiple sets into one.\n",
        "set1 = {1, 2, 3,4,6,7}\n",
        "set2 = {3, 4, 5,6,9,10}\n",
        "set3 = {5, 6, 7,9,10}\n",
        "\n",
        "# Step 2: Use the union() method to merge sets\n",
        "merged_set = set1.union(set2, set3)\n",
        "\n",
        "# Step 3: Print the merged set\n",
        "print(\"Merged Set:\", merged_set)"
      ],
      "metadata": {
        "id": "O_FUkXM6JIVC",
        "colab": {
          "base_uri": "https://localhost:8080/"
        },
        "outputId": "f2ee75e0-d2bc-4ff9-eb3e-cb7f462eb7cd"
      },
      "execution_count": 19,
      "outputs": [
        {
          "output_type": "stream",
          "name": "stdout",
          "text": [
            "Merged Set: {1, 2, 3, 4, 5, 6, 7, 9, 10}\n"
          ]
        }
      ]
    }
  ]
}